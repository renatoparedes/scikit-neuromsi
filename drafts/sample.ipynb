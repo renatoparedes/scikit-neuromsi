{
 "cells": [
  {
   "cell_type": "code",
   "execution_count": 19,
   "source": [
    "import ipdb\n",
    "import numpy as np\n",
    "import matplotlib.pyplot as plt\n",
    "\n",
    "import skneuromsi as sknm\n",
    "\n",
    "\n",
    "def auditory_stimulus(auditory_sigma, posible_locations, auditory_location):\n",
    "    sigma = auditory_sigma\n",
    "    location = auditory_location\n",
    "    plocations = posible_locations\n",
    "\n",
    "    return (1 / np.sqrt(2 * np.pi * sigma ** 2)) * np.exp(\n",
    "        -1 * (((plocations - location) ** 2) / (2 * sigma ** 2))\n",
    "    )\n",
    "\n",
    "\n",
    "def visual_stimulus(posible_locations, visual_sigma, visual_location):\n",
    "    plocations = posible_locations\n",
    "    location = visual_location\n",
    "    sigma = visual_sigma\n",
    "\n",
    "    return (1 / np.sqrt(2 * np.pi * sigma ** 2)) * np.exp(\n",
    "        -1 * (((plocations - location) ** 2) / (2 * sigma ** 2))\n",
    "    )\n",
    "\n",
    "\n",
    "def multisensory_stimulus(\n",
    "    multisensory_sigma,\n",
    "    posible_locations,\n",
    "    visual_location,\n",
    "    auditory_location,\n",
    "    visual_sigma,\n",
    "    auditory_sigma\n",
    "):\n",
    "    \"\"\"\n",
    "    Computes multisensory estimate\n",
    "    \"\"\"\n",
    "\n",
    "    sigma = multisensory_sigma\n",
    "    auditory_weight = visual_sigma ** 2 / (auditory_sigma ** 2 + visual_sigma ** 2)\n",
    "    visual_weight = auditory_sigma ** 2 / (visual_sigma ** 2 + auditory_sigma ** 2)\n",
    "\n",
    "    location = visual_weight * visual_location + auditory_weight * auditory_location\n",
    "    plocations = posible_locations\n",
    "\n",
    "    return (1 / np.sqrt(2 * np.pi * sigma ** 2)) * np.exp(\n",
    "        -1 * (((plocations - location) ** 2) / (2 * sigma ** 2))\n",
    "    )\n",
    "\n",
    "\n",
    "@sknm.neural_msi_model\n",
    "class AlaisBurr2004:\n",
    "\n",
    "    # hiper parameters\n",
    "    posible_locations = sknm.hparameter(\n",
    "        factory=lambda: np.arange(-20, 20, 0.01)\n",
    "    )\n",
    "    auditory_sigma = sknm.hparameter(default=3.0)\n",
    "    visual_sigma = sknm.hparameter(default=4.0)\n",
    "\n",
    "    # internals\n",
    "    #auditory_weight = sknm.internal(default=1.0)\n",
    "    #visual_weight = sknm.internal(default=2.0)\n",
    "    multisensory_sigma = sknm.internal(default=3.0)\n",
    "\n",
    "    # estimulii!\n",
    "    stimuli = [auditory_stimulus, visual_stimulus]\n",
    "    integration = multisensory_stimulus\n",
    "\n",
    "\n",
    "model = AlaisBurr2004()\n",
    "out = model.run(visual_location=-20, auditory_location=0)\n",
    "\n",
    "plt.plot(model.posible_locations,out);"
   ],
   "outputs": [
    {
     "output_type": "display_data",
     "data": {
      "image/png": "[encoded data removed]",
      "text/plain": [
       "<Figure size 432x288 with 1 Axes>"
      ]
     },
     "metadata": {
      "needs_background": "light"
     }
    }
   ],
   "metadata": {}
  },
  {
   "cell_type": "code",
   "execution_count": 17,
   "source": [
    "# Maybe change run to give unisensory and multisensory outputs\n",
    "# Thinking about the user, not so easy to get weights and locations outside the model. \n",
    "# It is a bit un confusing the notion of stimuli.... one thing is the stimuli and other the stimuli decoding"
   ],
   "outputs": [],
   "metadata": {}
  },
  {
   "cell_type": "code",
   "execution_count": null,
   "source": [],
   "outputs": [],
   "metadata": {}
  }
 ],
 "metadata": {
  "orig_nbformat": 4,
  "language_info": {
   "name": "python",
   "version": "3.9.5",
   "mimetype": "text/x-python",
   "codemirror_mode": {
    "name": "ipython",
    "version": 3
   },
   "pygments_lexer": "ipython3",
   "nbconvert_exporter": "python",
   "file_extension": ".py"
  },
  "kernelspec": {
   "name": "python3",
   "display_name": "Python 3.9.5 64-bit ('neuromsi': virtualenv)"
  },
  "interpreter": {
   "hash": "81743fe07f93ff458caf76a6a101fb3677d6fab04b9c0b3363f5b1944d467f55"
  }
 },
 "nbformat": 4,
 "nbformat_minor": 2
}