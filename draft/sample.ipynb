{
 "cells": [
  {
   "cell_type": "code",
   "execution_count": null,
   "metadata": {},
   "outputs": [],
   "source": [
    "# New model creation\n",
    "\n",
    "## From creation\n",
    "\n",
    "# Easy dimensional definition : space - time range and resolution\n",
    "# Experiment compatibility - Common Spatiotemporal Stimulation routines\n",
    "# Model familiy inheritance: helpful inheritance of methods and structure (OPTIONAL, there are already util tools \n",
    "# and other libraries such as BrainPy, PyMC, etc)\n",
    "\n",
    "from skneuromsi.mle import AlaisBurr2004\n",
    "\n",
    "@Spatiotemporal_Setup(time_range=(0,100), spatial_range=(10,20), time_res=0.1, spatial_res=1) \n",
    "@Ventriloquist_Setup(auditory_position, visual_position, modelparameters)\n",
    "class New New_Model(AlaisBurr2004):\n",
    "    ...\n",
    "\n",
    "model = New_Model()\n",
    "res = model.run()    \n",
    "\n"
   ]
  },
  {
   "cell_type": "code",
   "execution_count": 49,
   "metadata": {},
   "outputs": [
    {
     "ename": "AttributeError",
     "evalue": "'ModelTemplate' object has no attribute 'compile'",
     "output_type": "error",
     "traceback": [
      "\u001b[0;31m---------------------------------------------------------------------------\u001b[0m",
      "\u001b[0;31mAttributeError\u001b[0m                            Traceback (most recent call last)",
      "Cell \u001b[0;32mIn[49], line 52\u001b[0m\n\u001b[1;32m     47\u001b[0m         \u001b[38;5;28;01myield\u001b[39;00m model_template\n\u001b[1;32m     48\u001b[0m         new_model \u001b[38;5;241m=\u001b[39m model_template\u001b[38;5;241m.\u001b[39mcompile()\n\u001b[0;32m---> 52\u001b[0m \u001b[38;5;28;01mwith\u001b[39;00m extend\u001b[38;5;241m.\u001b[39mnmodel(\u001b[38;5;124m\"\u001b[39m\u001b[38;5;124mCabral2024\u001b[39m\u001b[38;5;124m\"\u001b[39m) \u001b[38;5;28;01mas\u001b[39;00m Cabral2024:\n\u001b[1;32m     53\u001b[0m     Cabral2024\u001b[38;5;241m.\u001b[39msetup \u001b[38;5;241m=\u001b[39m SpatioTemporalSetup\n",
      "File \u001b[0;32m/usr/lib/python3.10/contextlib.py:142\u001b[0m, in \u001b[0;36m_GeneratorContextManager.__exit__\u001b[0;34m(self, typ, value, traceback)\u001b[0m\n\u001b[1;32m    140\u001b[0m \u001b[38;5;28;01mif\u001b[39;00m typ \u001b[38;5;129;01mis\u001b[39;00m \u001b[38;5;28;01mNone\u001b[39;00m:\n\u001b[1;32m    141\u001b[0m     \u001b[38;5;28;01mtry\u001b[39;00m:\n\u001b[0;32m--> 142\u001b[0m         \u001b[38;5;28;43mnext\u001b[39;49m\u001b[43m(\u001b[49m\u001b[38;5;28;43mself\u001b[39;49m\u001b[38;5;241;43m.\u001b[39;49m\u001b[43mgen\u001b[49m\u001b[43m)\u001b[49m\n\u001b[1;32m    143\u001b[0m     \u001b[38;5;28;01mexcept\u001b[39;00m \u001b[38;5;167;01mStopIteration\u001b[39;00m:\n\u001b[1;32m    144\u001b[0m         \u001b[38;5;28;01mreturn\u001b[39;00m \u001b[38;5;28;01mFalse\u001b[39;00m\n",
      "Cell \u001b[0;32mIn[49], line 48\u001b[0m, in \u001b[0;36mextend.nmodel\u001b[0;34m(model_name)\u001b[0m\n\u001b[1;32m     46\u001b[0m model_template \u001b[38;5;241m=\u001b[39m ModelTemplate(_model_name\u001b[38;5;241m=\u001b[39mmodel_name)\n\u001b[1;32m     47\u001b[0m \u001b[38;5;28;01myield\u001b[39;00m model_template\n\u001b[0;32m---> 48\u001b[0m new_model \u001b[38;5;241m=\u001b[39m \u001b[43mmodel_template\u001b[49m\u001b[38;5;241;43m.\u001b[39;49m\u001b[43mcompile\u001b[49m()\n",
      "\u001b[0;31mAttributeError\u001b[0m: 'ModelTemplate' object has no attribute 'compile'"
     ]
    }
   ],
   "source": [
    "import dataclasses as dclss\n",
    "\n",
    "class SetupABC:\n",
    "    def compile(self):\n",
    "        pass\n",
    "\n",
    "@dclss.dataclass()\n",
    "class SpatialSetup(SetupABC):\n",
    "    position_range: tuple = (20, 40)\n",
    "    position_res:float = 1\n",
    "\n",
    "\n",
    "@dclss.dataclass()\n",
    "class TemporalSetup(SetupABC):\n",
    "    time_range: tuple = (0, 100)\n",
    "    time_res:float = .1\n",
    "\n",
    "\n",
    "@dclss.dataclass()\n",
    "class SpatioTemporalSetup(SpatialSetup, TemporalSetup):\n",
    "    pass\n",
    "\n",
    "import contextlib\n",
    "\n",
    "@dclss.dataclass(slots=True)\n",
    "class ModelTemplate:\n",
    "    _model_name: str\n",
    "    _base: type: object\n",
    "    _setup: None = None\n",
    "\n",
    "    @property\n",
    "    def setup(self):\n",
    "        return self._setup\n",
    "\n",
    "    @setup.setter\n",
    "    def setup(self, v):\n",
    "        ...\n",
    "        self._setup = v\n",
    "\n",
    "    def compile(self):\n",
    "        \n",
    "        return type(self._name, (self._base, {})\n",
    "        \n",
    "    \n",
    "    \n",
    "\n",
    "class extend:  # modulo trucho\n",
    "\n",
    "    @contextlib.contextmanager\n",
    "    def nmodel(model_name):\n",
    "        model_template = ModelTemplate(_model_name=model_name)\n",
    "        yield model_template\n",
    "        new_model = model_template.compile()\n",
    "        \n",
    "\n",
    "\n",
    "with extend.nmodel(\"Cabral2024\") as Cabral2024:\n",
    "    Cabral2024.setup = SpatioTemporalSetup\n",
    "\n",
    "    \n",
    "\n",
    "\n",
    "\n",
    "\n",
    "\n",
    "\n",
    "\n",
    "    "
   ]
  },
  {
   "cell_type": "code",
   "execution_count": 42,
   "metadata": {},
   "outputs": [
    {
     "data": {
      "text/plain": [
       "('a', 'b')"
      ]
     },
     "execution_count": 42,
     "metadata": {},
     "output_type": "execute_result"
    }
   ],
   "source": [
    "class A:\n",
    "    __slots__ = (\"a\", \"b\")\n",
    "    def __init__(self):\n",
    "        self.a = 1\n",
    "        self.b = 2\n",
    "        \n",
    "\n",
    "i = A()\n",
    "i.__slots__\n"
   ]
  },
  {
   "cell_type": "code",
   "execution_count": 30,
   "metadata": {},
   "outputs": [
    {
     "data": {
      "text/plain": [
       "{'time_res': 0.1}"
      ]
     },
     "execution_count": 30,
     "metadata": {},
     "output_type": "execute_result"
    }
   ],
   "source": [
    "import inspect\n",
    "\n",
    "param = inspect.Parameter(\"time_res\", inspect.Parameter.KEYWORD_ONLY, default=0.1)\n",
    "params = {p.name: p for p in [param]}\n",
    "\n",
    "sign = inspect.Signature([param])\n",
    "\n",
    "\n",
    "\n",
    "def run(**kwargs):\n",
    "    s = run.__signature__\n",
    "    bound_args = s.bind_partial(**kwargs)\n",
    "    bound_args.apply_defaults()\n",
    "\n",
    "    \n",
    "    real_kwargs = {}\n",
    "    return bound_args\n",
    "\n",
    "run.__signature__ = sign\n",
    "coso = run()\n",
    "coso.kwargs"
   ]
  },
  {
   "cell_type": "code",
   "execution_count": null,
   "metadata": {},
   "outputs": [],
   "source": [
    "\n",
    "NewModel = extend.use_as_base(AlaisBlurr2024).setup().compile()\n",
    "\n",
    "with extend.NewModel() as NeModel:\n",
    "    NewModel.base = AlaisBlurr\n",
    "    NreModel.setup()\n",
    "\n",
    "\n"
   ]
  },
  {
   "cell_type": "code",
   "execution_count": 26,
   "metadata": {},
   "outputs": [
    {
     "data": {
      "text/plain": [
       "<Axes: title={'center': 'AlaisBurr2004 - Time 0'}, xlabel='positions', ylabel='values'>"
      ]
     },
     "execution_count": 26,
     "metadata": {},
     "output_type": "execute_result"
    },
    {
     "data": {
      "image/png": "[encoded data removed]",
      "text/plain": [
       "<Figure size 640x480 with 1 Axes>"
      ]
     },
     "metadata": {},
     "output_type": "display_data"
    }
   ],
   "source": [
    "from skneuromsi.mle import AlaisBurr2004\n",
    "from skneuromsi.sweep import ParameterSweep\n",
    "\n",
    "# Model call\n",
    "model = AlaisBurr2004()\n",
    "\n",
    "# Experiment execution - # TODO: Number of modal stimuli in space and time.\n",
    "res = model.run()\n",
    "\n",
    "# Plot results\n",
    "res.plot()"
   ]
  },
  {
   "cell_type": "code",
   "execution_count": 22,
   "metadata": {},
   "outputs": [],
   "source": [
    "REGISTER = {}\n",
    "\n",
    "def recreator(cls_id):\n",
    "    cls = REGISTER[cls_id]\n",
    "    return cls()\n",
    "\n",
    "class A:\n",
    "    def __init__(self):\n",
    "        \n",
    "        class B:\n",
    "            def __reduce__(self):\n",
    "                return (recreator, (id(B), ), {})\n",
    "                \n",
    "        REGISTER[id(B)] = B\n",
    "        self.b = B()\n",
    "\n",
    "\n",
    "import joblib, io\n",
    "buff = io.BytesIO()\n",
    "\n",
    "value = A()\n",
    "joblib.dump(value, buff)"
   ]
  },
  {
   "cell_type": "code",
   "execution_count": 23,
   "metadata": {},
   "outputs": [],
   "source": [
    "buff.seek(0)\n",
    "value = joblib.load(buff)"
   ]
  },
  {
   "cell_type": "code",
   "execution_count": 24,
   "metadata": {},
   "outputs": [
    {
     "data": {
      "text/plain": [
       "<__main__.A.__init__.<locals>.B at 0x7f6d07e10d30>"
      ]
     },
     "execution_count": 24,
     "metadata": {},
     "output_type": "execute_result"
    }
   ],
   "source": [
    "value.b"
   ]
  },
  {
   "cell_type": "code",
   "execution_count": null,
   "metadata": {},
   "outputs": [],
   "source": []
  }
 ],
 "metadata": {
  "kernelspec": {
   "display_name": "Python 3 (ipykernel)",
   "language": "python",
   "name": "python3"
  },
  "language_info": {
   "codemirror_mode": {
    "name": "ipython",
    "version": 3
   },
   "file_extension": ".py",
   "mimetype": "text/x-python",
   "name": "python",
   "nbconvert_exporter": "python",
   "pygments_lexer": "ipython3",
   "version": "3.10.12"
  }
 },
 "nbformat": 4,
 "nbformat_minor": 4
}
