{
 "cells": [
  {
   "cell_type": "code",
   "execution_count": 1,
   "id": "c5a1196e-cf9c-44e9-91a4-1a0db3017774",
   "metadata": {},
   "outputs": [
    {
     "data": {
      "application/json": {
       "ascii": false,
       "bar_format": null,
       "colour": null,
       "elapsed": 0.036011695861816406,
       "initial": 0,
       "n": 0,
       "ncols": null,
       "nrows": null,
       "postfix": null,
       "prefix": "",
       "rate": null,
       "total": 30,
       "unit": "it",
       "unit_divisor": 1000,
       "unit_scale": false
      },
      "application/vnd.jupyter.widget-view+json": {
       "model_id": "90c86ded34f3429d85f084821cda5eea",
       "version_major": 2,
       "version_minor": 0
      },
      "text/plain": [
       "  0%|          | 0/30 [00:00<?, ?it/s]"
      ]
     },
     "metadata": {},
     "output_type": "display_data"
    }
   ],
   "source": [
    "from skneuromsi.neural import Cuppini2017\n",
    "from skneuromsi.cmp import SpatialDisparity\n",
    "from skneuromsi.utils import Bunch\n",
    "\n",
    "from tqdm.notebook import tqdm\n",
    "\n",
    "tqdm.pandas()\n",
    "\n",
    "model = Cuppini2017()\n",
    "\n",
    "rep = SpatialDisparity(\n",
    "    model,\n",
    "    repeat=3,\n",
    "    n_jobs=-1,\n",
    "    target=\"auditory_position\",\n",
    "    seed=41,\n",
    ")\n",
    "\n",
    "res = rep.run(noise=True, visual_position=90)\n",
    "\n",
    "del rep\n",
    "# gen, length = rep._run_kwargs_combinations({})"
   ]
  },
  {
   "cell_type": "code",
   "execution_count": 20,
   "id": "1e84ee5b",
   "metadata": {},
   "outputs": [],
   "source": [
    "Cls = type(res)\n",
    "\n",
    "def bias(self):\n",
    "    \n",
    "\n",
    "setattr(Cls, \"bias\", bias)\n",
    "\n",
    "res.bias()\n"
   ]
  },
  {
   "cell_type": "code",
   "execution_count": null,
   "id": "7e9ecee3",
   "metadata": {},
   "outputs": [],
   "source": []
  }
 ],
 "metadata": {
  "kernelspec": {
   "display_name": "Python 3 (ipykernel)",
   "language": "python",
   "name": "python3"
  },
  "language_info": {
   "codemirror_mode": {
    "name": "ipython",
    "version": 3
   },
   "file_extension": ".py",
   "mimetype": "text/x-python",
   "name": "python",
   "nbconvert_exporter": "python",
   "pygments_lexer": "ipython3",
   "version": "3.10.6"
  },
  "vscode": {
   "interpreter": {
    "hash": "8407cd5a849dfd678bb45a16397cf2967972ec23fa9818a23bcb7db22f6a21a9"
   }
  }
 },
 "nbformat": 4,
 "nbformat_minor": 5
}
