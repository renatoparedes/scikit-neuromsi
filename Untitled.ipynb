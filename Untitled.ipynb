{
 "cells": [
  {
   "cell_type": "code",
   "execution_count": 59,
   "id": "c5a1196e-cf9c-44e9-91a4-1a0db3017774",
   "metadata": {},
   "outputs": [
    {
     "ename": "KeyboardInterrupt",
     "evalue": "",
     "output_type": "error",
     "traceback": [
      "\u001b[0;31m---------------------------------------------------------------------------\u001b[0m",
      "\u001b[0;31mKeyboardInterrupt\u001b[0m                         Traceback (most recent call last)",
      "\u001b[1;32m/home/juanbc/proyectos/skneuromsi/src/Untitled.ipynb Celda 1\u001b[0m in \u001b[0;36m<cell line: 5>\u001b[0;34m()\u001b[0m\n\u001b[1;32m      <a href='vscode-notebook-cell:/home/juanbc/proyectos/skneuromsi/src/Untitled.ipynb#W1sZmlsZQ%3D%3D?line=1'>2</a>\u001b[0m \u001b[39mfrom\u001b[39;00m \u001b[39mskneuromsi\u001b[39;00m\u001b[39m.\u001b[39;00m\u001b[39mcmp\u001b[39;00m \u001b[39mimport\u001b[39;00m SpatialDisparity\n\u001b[1;32m      <a href='vscode-notebook-cell:/home/juanbc/proyectos/skneuromsi/src/Untitled.ipynb#W1sZmlsZQ%3D%3D?line=3'>4</a>\u001b[0m model \u001b[39m=\u001b[39m Cuppini2017(mode1\u001b[39m=\u001b[39m\u001b[39m\"\u001b[39m\u001b[39mlll\u001b[39m\u001b[39m\"\u001b[39m)\n\u001b[0;32m----> <a href='vscode-notebook-cell:/home/juanbc/proyectos/skneuromsi/src/Untitled.ipynb#W1sZmlsZQ%3D%3D?line=4'>5</a>\u001b[0m rep \u001b[39m=\u001b[39m model\u001b[39m.\u001b[39;49mrun()\n\u001b[1;32m      <a href='vscode-notebook-cell:/home/juanbc/proyectos/skneuromsi/src/Untitled.ipynb#W1sZmlsZQ%3D%3D?line=7'>8</a>\u001b[0m rep \u001b[39m=\u001b[39m SpatialDisparity(\n\u001b[1;32m      <a href='vscode-notebook-cell:/home/juanbc/proyectos/skneuromsi/src/Untitled.ipynb#W1sZmlsZQ%3D%3D?line=8'>9</a>\u001b[0m     model, repeat\u001b[39m=\u001b[39m\u001b[39m5\u001b[39m, n_jobs\u001b[39m=\u001b[39m\u001b[39m1\u001b[39m, target_rx\u001b[39m=\u001b[39m\u001b[39mr\u001b[39m\u001b[39m\"\u001b[39m\u001b[39m^auditory\u001b[39m\u001b[39m\\\u001b[39m\u001b[39m_position$\u001b[39m\u001b[39m\"\u001b[39m\n\u001b[1;32m     <a href='vscode-notebook-cell:/home/juanbc/proyectos/skneuromsi/src/Untitled.ipynb#W1sZmlsZQ%3D%3D?line=9'>10</a>\u001b[0m )\n\u001b[1;32m     <a href='vscode-notebook-cell:/home/juanbc/proyectos/skneuromsi/src/Untitled.ipynb#W1sZmlsZQ%3D%3D?line=11'>12</a>\u001b[0m res \u001b[39m=\u001b[39m rep\u001b[39m.\u001b[39mrun(noise\u001b[39m=\u001b[39m\u001b[39mTrue\u001b[39;00m, lll_position\u001b[39m=\u001b[39m\u001b[39m90\u001b[39m)\n",
      "File \u001b[0;32m~/proyectos/skneuromsi/src/skneuromsi/core/modelabc.py:393\u001b[0m, in \u001b[0;36mSKNMSIRunConfig.wrap_run.<locals>.wrapper\u001b[0;34m(*args, **kwargs)\u001b[0m\n\u001b[1;32m    388\u001b[0m target_args \u001b[39m=\u001b[39m bound_params\u001b[39m.\u001b[39margs\n\u001b[1;32m    389\u001b[0m target_kwargs \u001b[39m=\u001b[39m {\n\u001b[1;32m    390\u001b[0m     input_alias_map\u001b[39m.\u001b[39minv\u001b[39m.\u001b[39mget(k, k): v\n\u001b[1;32m    391\u001b[0m     \u001b[39mfor\u001b[39;00m k, v \u001b[39min\u001b[39;00m bound_params\u001b[39m.\u001b[39mkwargs\u001b[39m.\u001b[39mitems()\n\u001b[1;32m    392\u001b[0m }\n\u001b[0;32m--> 393\u001b[0m response, extra \u001b[39m=\u001b[39m run_method(\u001b[39m*\u001b[39;49mtarget_args, \u001b[39m*\u001b[39;49m\u001b[39m*\u001b[39;49mtarget_kwargs)\n\u001b[1;32m    394\u001b[0m causes \u001b[39m=\u001b[39m calculate_causes_method(\u001b[39m*\u001b[39m\u001b[39m*\u001b[39mresponse, \u001b[39m*\u001b[39m\u001b[39m*\u001b[39mextra)\n\u001b[1;32m    396\u001b[0m \u001b[39m# now we rename the output\u001b[39;00m\n",
      "File \u001b[0;32m~/proyectos/skneuromsi/src/skneuromsi/neural/_cuppini2017.py:267\u001b[0m, in \u001b[0;36mCuppini2017.run\u001b[0;34m(self, auditory_position, visual_position, auditory_intensity, visual_intensity, noise)\u001b[0m\n\u001b[1;32m    265\u001b[0m visual_to_auditory_synapses \u001b[39m=\u001b[39m \u001b[39mself\u001b[39m\u001b[39m.\u001b[39msynapses(weight\u001b[39m=\u001b[39m\u001b[39m1.4\u001b[39m, sigma\u001b[39m=\u001b[39m\u001b[39m5\u001b[39m)\n\u001b[1;32m    266\u001b[0m auditory_to_multi_synapses \u001b[39m=\u001b[39m \u001b[39mself\u001b[39m\u001b[39m.\u001b[39msynapses(weight\u001b[39m=\u001b[39m\u001b[39m18\u001b[39m, sigma\u001b[39m=\u001b[39m\u001b[39m0.5\u001b[39m)\n\u001b[0;32m--> 267\u001b[0m visual_to_multi_synapses \u001b[39m=\u001b[39m \u001b[39mself\u001b[39;49m\u001b[39m.\u001b[39;49msynapses(weight\u001b[39m=\u001b[39;49m\u001b[39m18\u001b[39;49m, sigma\u001b[39m=\u001b[39;49m\u001b[39m0.5\u001b[39;49m)\n\u001b[1;32m    269\u001b[0m \u001b[39m# Generate Stimuli\u001b[39;00m\n\u001b[1;32m    270\u001b[0m auditory_stimuli \u001b[39m=\u001b[39m \u001b[39mself\u001b[39m\u001b[39m.\u001b[39mstimuli_input(\n\u001b[1;32m    271\u001b[0m     intensity\u001b[39m=\u001b[39mauditory_intensity, scale\u001b[39m=\u001b[39m\u001b[39m32\u001b[39m, loc\u001b[39m=\u001b[39mauditory_position\n\u001b[1;32m    272\u001b[0m )\n",
      "File \u001b[0;32m~/proyectos/skneuromsi/src/skneuromsi/neural/_cuppini2017.py:209\u001b[0m, in \u001b[0;36mCuppini2017.synapses\u001b[0;34m(self, weight, sigma)\u001b[0m\n\u001b[1;32m    207\u001b[0m \u001b[39mfor\u001b[39;00m j \u001b[39min\u001b[39;00m \u001b[39mrange\u001b[39m(\u001b[39mself\u001b[39m\u001b[39m.\u001b[39mneurons):\n\u001b[1;32m    208\u001b[0m     \u001b[39mfor\u001b[39;00m k \u001b[39min\u001b[39;00m \u001b[39mrange\u001b[39m(\u001b[39mself\u001b[39m\u001b[39m.\u001b[39mneurons):\n\u001b[0;32m--> 209\u001b[0m         d \u001b[39m=\u001b[39m \u001b[39mself\u001b[39;49m\u001b[39m.\u001b[39;49mdistance(j, k)\n\u001b[1;32m    210\u001b[0m         the_synapses[j, k] \u001b[39m=\u001b[39m weight \u001b[39m*\u001b[39m np\u001b[39m.\u001b[39mexp(\n\u001b[1;32m    211\u001b[0m             \u001b[39m-\u001b[39m(np\u001b[39m.\u001b[39msquare(d)) \u001b[39m/\u001b[39m (\u001b[39m2\u001b[39m \u001b[39m*\u001b[39m np\u001b[39m.\u001b[39msquare(sigma))\n\u001b[1;32m    212\u001b[0m         )\n\u001b[1;32m    213\u001b[0m \u001b[39mreturn\u001b[39;00m the_synapses\n",
      "File \u001b[0;32m~/proyectos/skneuromsi/src/skneuromsi/neural/_cuppini2017.py:162\u001b[0m, in \u001b[0;36mCuppini2017.distance\u001b[0;34m(self, position_j, position_k)\u001b[0m\n\u001b[1;32m    160\u001b[0m \u001b[39mdef\u001b[39;00m \u001b[39mdistance\u001b[39m(\u001b[39mself\u001b[39m, position_j, position_k):\n\u001b[1;32m    161\u001b[0m     \u001b[39mif\u001b[39;00m np\u001b[39m.\u001b[39mabs(position_j \u001b[39m-\u001b[39m position_k) \u001b[39m<\u001b[39m\u001b[39m=\u001b[39m \u001b[39mself\u001b[39m\u001b[39m.\u001b[39mneurons \u001b[39m/\u001b[39m \u001b[39m2\u001b[39m:\n\u001b[0;32m--> 162\u001b[0m         \u001b[39mreturn\u001b[39;00m np\u001b[39m.\u001b[39;49mabs(position_j \u001b[39m-\u001b[39;49m position_k)\n\u001b[1;32m    163\u001b[0m     \u001b[39mreturn\u001b[39;00m \u001b[39mself\u001b[39m\u001b[39m.\u001b[39mneurons \u001b[39m-\u001b[39m np\u001b[39m.\u001b[39mabs(position_j \u001b[39m-\u001b[39m position_k)\n",
      "\u001b[0;31mKeyboardInterrupt\u001b[0m: "
     ]
    }
   ],
   "source": [
    "from skneuromsi.neural import Cuppini2017\n",
    "from skneuromsi.cmp import SpatialDisparity\n",
    "\n",
    "model = Cuppini2017(mode1=\"lll\")\n",
    "rep = model.run()\n",
    "\n",
    "\n",
    "rep = SpatialDisparity(\n",
    "    model, repeat=5, n_jobs=1, target_rx=r\"^auditory\\_position$\"\n",
    ")\n",
    "\n",
    "res = rep.run(noise=True, lll_position=90)\n"
   ]
  },
  {
   "cell_type": "code",
   "execution_count": 81,
   "id": "8861ea65-d5fa-4f13-9675-74387d727e12",
   "metadata": {},
   "outputs": [],
   "source": [
    "NDResultCollection = type(res)\n",
    "import pandas as pd\n",
    "import numpy as np\n",
    "\n",
    "\n",
    "def patch(func):\n",
    "    name = func.fget.__name__ if isinstance(func, property) else func.__name__\n",
    "    setattr(NDResultCollection, name, func)\n",
    "    \n",
    "    \n",
    "\n",
    "\n",
    "@patch\n",
    "def disparity_matrix(self):\n",
    "    df = pd.DataFrame(r.rp for r in self._ndresults)\n",
    "    df.index.name = \"Iteration\"\n",
    "    df.columns.name = \"Parameters\"\n",
    "    return df\n",
    "\n",
    "\n",
    "@patch\n",
    "@property\n",
    "def which_parameters_change(self):\n",
    "    dm = self.disparity_matrix()\n",
    "    uniques = dm.apply(np.unique)\n",
    "    changes = uniques.apply(len) != 1\n",
    "    changes.name = \"Changes\"\n",
    "    return changes\n",
    "\n",
    "\n",
    "@patch\n",
    "@property\n",
    "def changing_parameters(self):\n",
    "    wpc = self.which_parameters_change\n",
    "    return wpc[wpc].index.to_numpy()\n",
    "\n",
    "\n",
    "@patch\n",
    "def causes_by_attr(self, runattr=None):\n",
    "    runattr = self.changing_parameters if runattr is None else runattr\n",
    "    rows = []\n",
    "    for ndres in self._ndresults:\n",
    "        row = {attr: ndres.rp[attr] for attr in runattr}\n",
    "        row[\"causes\"] = ndres.causes_\n",
    "        rows.append(row)\n",
    "\n",
    "    cdf = pd.DataFrame(rows)\n",
    "    return cdf\n",
    "\n",
    "\n",
    "@patch\n",
    "def unity_report(self, attrs=None):\n",
    "    attrs = self.changing_parameters if attrs is None else attrs\n",
    "    cdf = self.causes_by_attr(attrs)\n",
    "    columns = {}\n",
    "    for attr in attrs:\n",
    "        attr_ctab = pd.crosstab(cdf[attr], cdf.causes)\n",
    "        attr_unity = attr_ctab[1] / attr_ctab.sum(axis=\"columns\")\n",
    "        columns[attr] = attr_unity\n",
    "        \n",
    "    the_report = pd.DataFrame.from_dict(columns)\n",
    "    the_report.index.name = \"Disparity\"\n",
    "    the_report.columns.name = \"Parameters\"\n",
    "    \n",
    "    return the_report\n",
    "    "
   ]
  },
  {
   "cell_type": "code",
   "execution_count": 86,
   "id": "4b45786b-96ad-47ca-88b0-d6106b3efbef",
   "metadata": {},
   "outputs": [
    {
     "data": {
      "text/plain": [
       "<AxesSubplot:title={'center':'Unity Report'}, xlabel='Disparity', ylabel='causes=1 (Proportion)'>"
      ]
     },
     "execution_count": 86,
     "metadata": {},
     "output_type": "execute_result"
    },
    {
     "data": {
      "image/png": "[encoded data removed]",
      "text/plain": [
       "<Figure size 432x288 with 1 Axes>"
      ]
     },
     "metadata": {
      "needs_background": "light"
     },
     "output_type": "display_data"
    }
   ],
   "source": [
    "import seaborn as sns\n",
    "\n",
    "class NDResultCollectionPlotter:\n",
    "    \n",
    "    def __init__(self, ndcollection):\n",
    "        self._nd_collection = ndcollection\n",
    "        \n",
    "    def unity_report(self, ax=None, **kws):\n",
    "        the_report = self._nd_collection.unity_report()\n",
    "        ax = sns.lineplot(data=the_report, ax=ax, **kws)\n",
    "        ax.set_title(\"Unity Report\")\n",
    "        ax.set_ylabel(\"causes=1 (Proportion)\")\n",
    "        return ax\n",
    "\n",
    "\n",
    "@patch\n",
    "@property\n",
    "def plot(self):\n",
    "    return NDResultCollectionPlotter(self)\n",
    "\n",
    "res.plot.unity_report()"
   ]
  },
  {
   "cell_type": "code",
   "execution_count": null,
   "id": "0c1d5678-8800-4462-88a5-43a03d850bdc",
   "metadata": {},
   "outputs": [
    {
     "data": {
      "text/html": [
       "<div>\n",
       "<style scoped>\n",
       "    .dataframe tbody tr th:only-of-type {\n",
       "        vertical-align: middle;\n",
       "    }\n",
       "\n",
       "    .dataframe tbody tr th {\n",
       "        vertical-align: top;\n",
       "    }\n",
       "\n",
       "    .dataframe thead th {\n",
       "        text-align: right;\n",
       "    }\n",
       "</style>\n",
       "<table border=\"1\" class=\"dataframe\">\n",
       "  <thead>\n",
       "    <tr style=\"text-align: right;\">\n",
       "      <th>causes</th>\n",
       "      <th>1</th>\n",
       "      <th>2</th>\n",
       "      <th>3</th>\n",
       "    </tr>\n",
       "    <tr>\n",
       "      <th>auditory_position</th>\n",
       "      <th></th>\n",
       "      <th></th>\n",
       "      <th></th>\n",
       "    </tr>\n",
       "  </thead>\n",
       "  <tbody>\n",
       "    <tr>\n",
       "      <th>90</th>\n",
       "      <td>3</td>\n",
       "      <td>2</td>\n",
       "      <td>0</td>\n",
       "    </tr>\n",
       "    <tr>\n",
       "      <th>92</th>\n",
       "      <td>4</td>\n",
       "      <td>1</td>\n",
       "      <td>0</td>\n",
       "    </tr>\n",
       "    <tr>\n",
       "      <th>94</th>\n",
       "      <td>3</td>\n",
       "      <td>1</td>\n",
       "      <td>1</td>\n",
       "    </tr>\n",
       "    <tr>\n",
       "      <th>96</th>\n",
       "      <td>4</td>\n",
       "      <td>1</td>\n",
       "      <td>0</td>\n",
       "    </tr>\n",
       "    <tr>\n",
       "      <th>98</th>\n",
       "      <td>4</td>\n",
       "      <td>1</td>\n",
       "      <td>0</td>\n",
       "    </tr>\n",
       "    <tr>\n",
       "      <th>100</th>\n",
       "      <td>4</td>\n",
       "      <td>1</td>\n",
       "      <td>0</td>\n",
       "    </tr>\n",
       "    <tr>\n",
       "      <th>102</th>\n",
       "      <td>1</td>\n",
       "      <td>0</td>\n",
       "      <td>4</td>\n",
       "    </tr>\n",
       "    <tr>\n",
       "      <th>104</th>\n",
       "      <td>3</td>\n",
       "      <td>2</td>\n",
       "      <td>0</td>\n",
       "    </tr>\n",
       "    <tr>\n",
       "      <th>106</th>\n",
       "      <td>2</td>\n",
       "      <td>3</td>\n",
       "      <td>0</td>\n",
       "    </tr>\n",
       "    <tr>\n",
       "      <th>108</th>\n",
       "      <td>3</td>\n",
       "      <td>2</td>\n",
       "      <td>0</td>\n",
       "    </tr>\n",
       "  </tbody>\n",
       "</table>\n",
       "</div>"
      ],
      "text/plain": [
       "causes             1  2  3\n",
       "auditory_position         \n",
       "90                 3  2  0\n",
       "92                 4  1  0\n",
       "94                 3  1  1\n",
       "96                 4  1  0\n",
       "98                 4  1  0\n",
       "100                4  1  0\n",
       "102                1  0  4\n",
       "104                3  2  0\n",
       "106                2  3  0\n",
       "108                3  2  0"
      ]
     },
     "execution_count": 48,
     "metadata": {},
     "output_type": "execute_result"
    }
   ],
   "source": []
  },
  {
   "cell_type": "code",
   "execution_count": null,
   "id": "5aa03ede-24fe-4a9f-bfd7-c48d25f6744f",
   "metadata": {},
   "outputs": [],
   "source": []
  }
 ],
 "metadata": {
  "kernelspec": {
   "display_name": "Python 3 (ipykernel)",
   "language": "python",
   "name": "python3"
  },
  "language_info": {
   "codemirror_mode": {
    "name": "ipython",
    "version": 3
   },
   "file_extension": ".py",
   "mimetype": "text/x-python",
   "name": "python",
   "nbconvert_exporter": "python",
   "pygments_lexer": "ipython3",
   "version": "3.10.6"
  },
  "vscode": {
   "interpreter": {
    "hash": "8407cd5a849dfd678bb45a16397cf2967972ec23fa9818a23bcb7db22f6a21a9"
   }
  }
 },
 "nbformat": 4,
 "nbformat_minor": 5
}
