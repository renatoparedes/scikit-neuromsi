{
 "cells": [
  {
   "cell_type": "code",
   "execution_count": 1,
   "id": "c5a1196e-cf9c-44e9-91a4-1a0db3017774",
   "metadata": {},
   "outputs": [
    {
     "data": {
      "application/json": {
       "ascii": false,
       "bar_format": null,
       "colour": null,
       "elapsed": 0.02301764488220215,
       "initial": 0,
       "n": 0,
       "ncols": null,
       "nrows": null,
       "postfix": null,
       "prefix": "",
       "rate": null,
       "total": 50,
       "unit": "it",
       "unit_divisor": 1000,
       "unit_scale": false
      },
      "application/vnd.jupyter.widget-view+json": {
       "model_id": "80c7e6fbf174473e91e16536b60ec6b3",
       "version_major": 2,
       "version_minor": 0
      },
      "text/plain": [
       "  0%|          | 0/50 [00:00<?, ?it/s]"
      ]
     },
     "metadata": {},
     "output_type": "display_data"
    }
   ],
   "source": [
    "from skneuromsi.neural import Cuppini2017\n",
    "from skneuromsi.cmp import SpatialDisparity\n",
    "\n",
    "model = Cuppini2017(mode1=\"lll\")\n",
    "\n",
    "\n",
    "\n",
    "rep = SpatialDisparity(\n",
    "    model, repeat=5, n_jobs=1, target_rx=r\"^auditory\\_position$\"\n",
    ")\n",
    "\n",
    "res = rep.run(noise=True, lll_position=90)\n"
   ]
  },
  {
   "cell_type": "code",
   "execution_count": 35,
   "id": "8861ea65-d5fa-4f13-9675-74387d727e12",
   "metadata": {},
   "outputs": [],
   "source": [
    "NDResultCollection = type(res)\n",
    "import pandas as pd\n",
    "import numpy as np\n",
    "from collections import defaultdict\n",
    "\n",
    "\n",
    "def patch(func):\n",
    "    name = func.fget.__name__ if isinstance(func, property) else func.__name__\n",
    "    setattr(NDResultCollection, name, func)\n",
    "\n",
    "\n",
    "@patch\n",
    "def unity_report(self, attributes=None):\n",
    "    attributes = self.changing_attrs() if attributes is None else attributes\n",
    "    cdf = self.causes_by_attr(attributes)\n",
    "    columns = {}\n",
    "    for attr in attributes:\n",
    "        values = cdf[(\"Attributes\", attr)]\n",
    "        attr_ctab = pd.crosstab(values, cdf[\"\", \"Causes\"])\n",
    "        attr_unity = attr_ctab.get(1, 0) / attr_ctab.sum(axis=\"columns\")\n",
    "        columns[attr] = attr_unity\n",
    "\n",
    "    the_report = pd.DataFrame.from_dict(columns)\n",
    "    the_report.index.name = \"Disparity\"\n",
    "    the_report.columns.name = \"Attributes\"\n",
    "\n",
    "    return the_report\n",
    "\n",
    "df = res.unity_report()"
   ]
  },
  {
   "cell_type": "code",
   "execution_count": 38,
   "id": "ad3d25c0",
   "metadata": {},
   "outputs": [
    {
     "data": {
      "text/plain": [
       "0"
      ]
     },
     "execution_count": 38,
     "metadata": {},
     "output_type": "execute_result"
    }
   ],
   "source": [
    "df.get(10, 0)"
   ]
  },
  {
   "cell_type": "code",
   "execution_count": 21,
   "id": "0e0dfa3e",
   "metadata": {},
   "outputs": [
    {
     "data": {
      "text/html": [
       "<div>\n",
       "<style scoped>\n",
       "    .dataframe tbody tr th:only-of-type {\n",
       "        vertical-align: middle;\n",
       "    }\n",
       "\n",
       "    .dataframe tbody tr th {\n",
       "        vertical-align: top;\n",
       "    }\n",
       "\n",
       "    .dataframe thead th {\n",
       "        text-align: right;\n",
       "    }\n",
       "</style>\n",
       "<table border=\"1\" class=\"dataframe\">\n",
       "  <thead>\n",
       "    <tr style=\"text-align: right;\">\n",
       "      <th></th>\n",
       "      <th>0</th>\n",
       "      <th>x</th>\n",
       "    </tr>\n",
       "  </thead>\n",
       "  <tbody>\n",
       "    <tr>\n",
       "      <th>0</th>\n",
       "      <td>1</td>\n",
       "      <td>25</td>\n",
       "    </tr>\n",
       "    <tr>\n",
       "      <th>1</th>\n",
       "      <td>2</td>\n",
       "      <td>25</td>\n",
       "    </tr>\n",
       "    <tr>\n",
       "      <th>2</th>\n",
       "      <td>3</td>\n",
       "      <td>25</td>\n",
       "    </tr>\n",
       "  </tbody>\n",
       "</table>\n",
       "</div>"
      ],
      "text/plain": [
       "   0   x\n",
       "0  1  25\n",
       "1  2  25\n",
       "2  3  25"
      ]
     },
     "execution_count": 21,
     "metadata": {},
     "output_type": "execute_result"
    }
   ],
   "source": [
    "df"
   ]
  },
  {
   "cell_type": "code",
   "execution_count": null,
   "id": "24eeb93a",
   "metadata": {},
   "outputs": [],
   "source": []
  }
 ],
 "metadata": {
  "kernelspec": {
   "display_name": "Python 3 (ipykernel)",
   "language": "python",
   "name": "python3"
  },
  "language_info": {
   "codemirror_mode": {
    "name": "ipython",
    "version": 3
   },
   "file_extension": ".py",
   "mimetype": "text/x-python",
   "name": "python",
   "nbconvert_exporter": "python",
   "pygments_lexer": "ipython3",
   "version": "3.10.6"
  },
  "vscode": {
   "interpreter": {
    "hash": "8407cd5a849dfd678bb45a16397cf2967972ec23fa9818a23bcb7db22f6a21a9"
   }
  }
 },
 "nbformat": 4,
 "nbformat_minor": 5
}
