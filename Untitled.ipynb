{
 "cells": [
  {
   "cell_type": "code",
   "execution_count": 1,
   "id": "c5a1196e-cf9c-44e9-91a4-1a0db3017774",
   "metadata": {},
   "outputs": [
    {
     "data": {
      "application/json": {
       "ascii": false,
       "bar_format": null,
       "colour": null,
       "elapsed": 0.015424966812133789,
       "initial": 0,
       "n": 0,
       "ncols": null,
       "nrows": null,
       "postfix": null,
       "prefix": "",
       "rate": null,
       "total": 100,
       "unit": "it",
       "unit_divisor": 1000,
       "unit_scale": false
      },
      "application/vnd.jupyter.widget-view+json": {
       "model_id": "948dde802c51401598a4265113c1557b",
       "version_major": 2,
       "version_minor": 0
      },
      "text/plain": [
       "  0%|          | 0/100 [00:00<?, ?it/s]"
      ]
     },
     "metadata": {},
     "output_type": "display_data"
    },
    {
     "name": "stdout",
     "output_type": "stream",
     "text": [
      "> \u001b[0;32m/home/juanbc/proyectos/skneuromsi/src/skneuromsi/cmp/storages.py\u001b[0m(69)\u001b[0;36mmake_storage\u001b[0;34m()\u001b[0m\n",
      "\u001b[0;32m     68 \u001b[0;31m    \u001b[0;32mimport\u001b[0m \u001b[0mipdb\u001b[0m\u001b[0;34m;\u001b[0m \u001b[0mipdb\u001b[0m\u001b[0;34m.\u001b[0m\u001b[0mset_trace\u001b[0m\u001b[0;34m(\u001b[0m\u001b[0;34m)\u001b[0m\u001b[0;34m\u001b[0m\u001b[0;34m\u001b[0m\u001b[0m\n",
      "\u001b[0m\u001b[0;32m---> 69 \u001b[0;31m    \u001b[0mcls\u001b[0m \u001b[0;34m=\u001b[0m \u001b[0m_STORAGES\u001b[0m\u001b[0;34m.\u001b[0m\u001b[0mget\u001b[0m\u001b[0;34m(\u001b[0m\u001b[0mconf\u001b[0m\u001b[0;34m)\u001b[0m\u001b[0;34m\u001b[0m\u001b[0;34m\u001b[0m\u001b[0m\n",
      "\u001b[0m\u001b[0;32m     70 \u001b[0;31m    \u001b[0;32mtry\u001b[0m\u001b[0;34m:\u001b[0m\u001b[0;34m\u001b[0m\u001b[0;34m\u001b[0m\u001b[0m\n",
      "\u001b[0m\n",
      "':memory:'\n",
      "> \u001b[0;32m/home/juanbc/proyectos/skneuromsi/src/skneuromsi/cmp/storages.py\u001b[0m(70)\u001b[0;36mmake_storage\u001b[0;34m()\u001b[0m\n",
      "\u001b[0;32m     69 \u001b[0;31m    \u001b[0mcls\u001b[0m \u001b[0;34m=\u001b[0m \u001b[0m_STORAGES\u001b[0m\u001b[0;34m.\u001b[0m\u001b[0mget\u001b[0m\u001b[0;34m(\u001b[0m\u001b[0mconf\u001b[0m\u001b[0;34m)\u001b[0m\u001b[0;34m\u001b[0m\u001b[0;34m\u001b[0m\u001b[0m\n",
      "\u001b[0m\u001b[0;32m---> 70 \u001b[0;31m    \u001b[0;32mtry\u001b[0m\u001b[0;34m:\u001b[0m\u001b[0;34m\u001b[0m\u001b[0;34m\u001b[0m\u001b[0m\n",
      "\u001b[0m\u001b[0;32m     71 \u001b[0;31m        \u001b[0mstg\u001b[0m \u001b[0;34m=\u001b[0m \u001b[0mcls\u001b[0m\u001b[0;34m(\u001b[0m\u001b[0mconf\u001b[0m\u001b[0;34m)\u001b[0m\u001b[0;34m\u001b[0m\u001b[0;34m\u001b[0m\u001b[0m\n",
      "\u001b[0m\n",
      "<class 'skneuromsi.cmp.storages.DataArrayResultStorage'>\n",
      "> \u001b[0;32m/home/juanbc/proyectos/skneuromsi/src/skneuromsi/cmp/storages.py\u001b[0m(71)\u001b[0;36mmake_storage\u001b[0;34m()\u001b[0m\n",
      "\u001b[0;32m     70 \u001b[0;31m    \u001b[0;32mtry\u001b[0m\u001b[0;34m:\u001b[0m\u001b[0;34m\u001b[0m\u001b[0;34m\u001b[0m\u001b[0m\n",
      "\u001b[0m\u001b[0;32m---> 71 \u001b[0;31m        \u001b[0mstg\u001b[0m \u001b[0;34m=\u001b[0m \u001b[0mcls\u001b[0m\u001b[0;34m(\u001b[0m\u001b[0mconf\u001b[0m\u001b[0;34m)\u001b[0m\u001b[0;34m\u001b[0m\u001b[0;34m\u001b[0m\u001b[0m\n",
      "\u001b[0m\u001b[0;32m     72 \u001b[0;31m        \u001b[0;32myield\u001b[0m \u001b[0mstg\u001b[0m\u001b[0;34m\u001b[0m\u001b[0;34m\u001b[0m\u001b[0m\n",
      "\u001b[0m\n",
      "TypeError: Can't instantiate abstract class DataArrayResultStorage with abstract method process\n",
      "> \u001b[0;32m/home/juanbc/proyectos/skneuromsi/src/skneuromsi/cmp/storages.py\u001b[0m(71)\u001b[0;36mmake_storage\u001b[0;34m()\u001b[0m\n",
      "\u001b[0;32m     70 \u001b[0;31m    \u001b[0;32mtry\u001b[0m\u001b[0;34m:\u001b[0m\u001b[0;34m\u001b[0m\u001b[0;34m\u001b[0m\u001b[0m\n",
      "\u001b[0m\u001b[0;32m---> 71 \u001b[0;31m        \u001b[0mstg\u001b[0m \u001b[0;34m=\u001b[0m \u001b[0mcls\u001b[0m\u001b[0;34m(\u001b[0m\u001b[0mconf\u001b[0m\u001b[0;34m)\u001b[0m\u001b[0;34m\u001b[0m\u001b[0;34m\u001b[0m\u001b[0m\n",
      "\u001b[0m\u001b[0;32m     72 \u001b[0;31m        \u001b[0;32myield\u001b[0m \u001b[0mstg\u001b[0m\u001b[0;34m\u001b[0m\u001b[0;34m\u001b[0m\u001b[0m\n",
      "\u001b[0m\n"
     ]
    },
    {
     "ename": "UnboundLocalError",
     "evalue": "local variable 'stg' referenced before assignment",
     "output_type": "error",
     "traceback": [
      "\u001b[0;31m---------------------------------------------------------------------------\u001b[0m",
      "\u001b[0;31mTypeError\u001b[0m                                 Traceback (most recent call last)",
      "File \u001b[0;32m~/proyectos/skneuromsi/src/skneuromsi/cmp/storages.py:71\u001b[0m, in \u001b[0;36mmake_storage\u001b[0;34m(conf)\u001b[0m\n\u001b[1;32m     70\u001b[0m \u001b[39mtry\u001b[39;00m:\n\u001b[0;32m---> 71\u001b[0m     stg \u001b[39m=\u001b[39m \u001b[39mcls\u001b[39;49m(conf)\n\u001b[1;32m     72\u001b[0m     \u001b[39myield\u001b[39;00m stg\n",
      "\u001b[0;31mTypeError\u001b[0m: Can't instantiate abstract class DataArrayResultStorage with abstract method process",
      "\nDuring handling of the above exception, another exception occurred:\n",
      "\u001b[0;31mUnboundLocalError\u001b[0m                         Traceback (most recent call last)",
      "\u001b[1;32m/home/juanbc/proyectos/skneuromsi/src/Untitled.ipynb Celda 1\u001b[0m in \u001b[0;36m<cell line: 27>\u001b[0;34m()\u001b[0m\n\u001b[1;32m     <a href='vscode-notebook-cell:/home/juanbc/proyectos/skneuromsi/src/Untitled.ipynb#W0sZmlsZQ%3D%3D?line=16'>17</a>\u001b[0m model \u001b[39m=\u001b[39m Cuppini2017()\n\u001b[1;32m     <a href='vscode-notebook-cell:/home/juanbc/proyectos/skneuromsi/src/Untitled.ipynb#W0sZmlsZQ%3D%3D?line=18'>19</a>\u001b[0m rep \u001b[39m=\u001b[39m SpatialDisparity(\n\u001b[1;32m     <a href='vscode-notebook-cell:/home/juanbc/proyectos/skneuromsi/src/Untitled.ipynb#W0sZmlsZQ%3D%3D?line=19'>20</a>\u001b[0m     model,\n\u001b[1;32m     <a href='vscode-notebook-cell:/home/juanbc/proyectos/skneuromsi/src/Untitled.ipynb#W0sZmlsZQ%3D%3D?line=20'>21</a>\u001b[0m     repeat\u001b[39m=\u001b[39m\u001b[39m10\u001b[39m,\n\u001b[0;32m   (...)\u001b[0m\n\u001b[1;32m     <a href='vscode-notebook-cell:/home/juanbc/proyectos/skneuromsi/src/Untitled.ipynb#W0sZmlsZQ%3D%3D?line=23'>24</a>\u001b[0m     seed\u001b[39m=\u001b[39m\u001b[39m41\u001b[39m,\n\u001b[1;32m     <a href='vscode-notebook-cell:/home/juanbc/proyectos/skneuromsi/src/Untitled.ipynb#W0sZmlsZQ%3D%3D?line=24'>25</a>\u001b[0m )\n\u001b[0;32m---> <a href='vscode-notebook-cell:/home/juanbc/proyectos/skneuromsi/src/Untitled.ipynb#W0sZmlsZQ%3D%3D?line=26'>27</a>\u001b[0m res \u001b[39m=\u001b[39m rep\u001b[39m.\u001b[39;49mrun(noise\u001b[39m=\u001b[39;49m\u001b[39mTrue\u001b[39;49;00m, visual_position\u001b[39m=\u001b[39;49m\u001b[39m90\u001b[39;49m)\n",
      "File \u001b[0;32m~/proyectos/skneuromsi/src/skneuromsi/cmp/spatial.py:161\u001b[0m, in \u001b[0;36mSpatialDisparity.run\u001b[0;34m(self, **run_kws)\u001b[0m\n\u001b[1;32m    157\u001b[0m     responses \u001b[39m=\u001b[39m P(drun(rkw, rkw_seed) \u001b[39mfor\u001b[39;00m rkw, rkw_seed \u001b[39min\u001b[39;00m rkw_combs)\n\u001b[1;32m    159\u001b[0m responses\u001b[39m.\u001b[39minsert(\u001b[39m0\u001b[39m, first_response)\n\u001b[0;32m--> 161\u001b[0m result \u001b[39m=\u001b[39m NDResultCollection(responses, name\u001b[39m=\u001b[39;49m\u001b[39mtype\u001b[39;49m(\u001b[39mself\u001b[39;49m)\u001b[39m.\u001b[39;49m\u001b[39m__name__\u001b[39;49m)\n\u001b[1;32m    163\u001b[0m \u001b[39mdel\u001b[39;00m responses\n\u001b[1;32m    165\u001b[0m \u001b[39mreturn\u001b[39;00m result\n",
      "File \u001b[0;32m~/proyectos/skneuromsi/src/skneuromsi/cmp/ndcollection.py:105\u001b[0m, in \u001b[0;36mNDResultCollection.__init__\u001b[0;34m(self, ndresults, name, result_storage)\u001b[0m\n\u001b[1;32m    102\u001b[0m extra_lst \u001b[39m=\u001b[39m []\n\u001b[1;32m    103\u001b[0m causes_lst \u001b[39m=\u001b[39m []\n\u001b[0;32m--> 105\u001b[0m \u001b[39mwith\u001b[39;00m make_storage(result_storage) \u001b[39mas\u001b[39;00m result_storage:\n\u001b[1;32m    106\u001b[0m     \u001b[39mfor\u001b[39;00m ndres \u001b[39min\u001b[39;00m ndresults:\n\u001b[1;32m    107\u001b[0m         mname_lst\u001b[39m.\u001b[39mappend(ndres\u001b[39m.\u001b[39mmname)\n",
      "File \u001b[0;32m/usr/lib/python3.10/contextlib.py:135\u001b[0m, in \u001b[0;36m_GeneratorContextManager.__enter__\u001b[0;34m(self)\u001b[0m\n\u001b[1;32m    133\u001b[0m \u001b[39mdel\u001b[39;00m \u001b[39mself\u001b[39m\u001b[39m.\u001b[39margs, \u001b[39mself\u001b[39m\u001b[39m.\u001b[39mkwds, \u001b[39mself\u001b[39m\u001b[39m.\u001b[39mfunc\n\u001b[1;32m    134\u001b[0m \u001b[39mtry\u001b[39;00m:\n\u001b[0;32m--> 135\u001b[0m     \u001b[39mreturn\u001b[39;00m \u001b[39mnext\u001b[39;49m(\u001b[39mself\u001b[39;49m\u001b[39m.\u001b[39;49mgen)\n\u001b[1;32m    136\u001b[0m \u001b[39mexcept\u001b[39;00m \u001b[39mStopIteration\u001b[39;00m:\n\u001b[1;32m    137\u001b[0m     \u001b[39mraise\u001b[39;00m \u001b[39mRuntimeError\u001b[39;00m(\u001b[39m\"\u001b[39m\u001b[39mgenerator didn\u001b[39m\u001b[39m'\u001b[39m\u001b[39mt yield\u001b[39m\u001b[39m\"\u001b[39m) \u001b[39mfrom\u001b[39;00m \u001b[39mNone\u001b[39m\n",
      "File \u001b[0;32m~/proyectos/skneuromsi/src/skneuromsi/cmp/storages.py:74\u001b[0m, in \u001b[0;36mmake_storage\u001b[0;34m(conf)\u001b[0m\n\u001b[1;32m     72\u001b[0m     \u001b[39myield\u001b[39;00m stg\n\u001b[1;32m     73\u001b[0m \u001b[39mfinally\u001b[39;00m:\n\u001b[0;32m---> 74\u001b[0m     stg\u001b[39m.\u001b[39mlock()\n",
      "\u001b[0;31mUnboundLocalError\u001b[0m: local variable 'stg' referenced before assignment"
     ]
    }
   ],
   "source": [
    "from skneuromsi.neural import Cuppini2017\n",
    "from skneuromsi.cmp import SpatialDisparity\n",
    "from skneuromsi.utils import Bunch\n",
    "import pandas as pd\n",
    "import numpy as np\n",
    "\n",
    "from tqdm.notebook import tqdm\n",
    "\n",
    "import joblib\n",
    "\n",
    "import xarray as xa\n",
    "\n",
    "import sys\n",
    "\n",
    "tqdm.pandas()\n",
    "\n",
    "model = Cuppini2017()\n",
    "\n",
    "rep = SpatialDisparity(\n",
    "    model,\n",
    "    repeat=10,\n",
    "    n_jobs=-1,\n",
    "    target=\"auditory_position\",\n",
    "    seed=41,\n",
    ")\n",
    "\n",
    "res = rep.run(noise=True, visual_position=90)\n",
    "\n",
    "# del rep\n",
    "# #gen, length = rep._run_kwargs_combinations({})\n",
    "\n",
    "# joblib\n"
   ]
  },
  {
   "cell_type": "code",
   "execution_count": 2,
   "id": "030c85c4",
   "metadata": {},
   "outputs": [
    {
     "data": {
      "text/plain": [
       "<NDResultCollection name='SpatialDisparity', len=100>"
      ]
     },
     "execution_count": 2,
     "metadata": {},
     "output_type": "execute_result"
    }
   ],
   "source": [
    "res"
   ]
  },
  {
   "cell_type": "code",
   "execution_count": 19,
   "id": "7f815555",
   "metadata": {},
   "outputs": [],
   "source": [
    "from collections.abc import Sequence\n",
    "from collections import defaultdict\n",
    "from skneuromsi.core.result import NDResult\n"
   ]
  },
  {
   "cell_type": "code",
   "execution_count": 30,
   "id": "1e84ee5b",
   "metadata": {},
   "outputs": [
    {
     "data": {
      "text/plain": [
       "<AxesSubplot:xlabel='Disparity', ylabel='Proportion of 1 causes'>"
      ]
     },
     "execution_count": 30,
     "metadata": {},
     "output_type": "execute_result"
    },
    {
     "data": {
      "image/png": "[encoded data removed]",
      "text/plain": [
       "<Figure size 432x288 with 1 Axes>"
      ]
     },
     "metadata": {
      "needs_background": "light"
     },
     "output_type": "display_data"
    }
   ],
   "source": [
    "Cls = type(res)\n",
    "\n",
    "\n",
    "def merge(cls):\n",
    "    for k, v in vars(cls).items():\n",
    "        if k.startswith(\"__\") and k.endswith(\"__\"):\n",
    "            continue\n",
    "        setattr(Cls, k, v)\n",
    "\n",
    "\n",
    "@merge\n",
    "class Extra:\n",
    "    \n",
    "    def causes_by_attribute(self, *, attribute=None):\n",
    "        attribute = self._get_attribute_by(attribute)\n",
    "\n",
    "        columns = defaultdict(list)\n",
    "        for rp, causes in zip(self._run_params_arr, self._causes_arr):\n",
    "\n",
    "            columns[(\"Attributes\", attribute)].append(rp[attribute])\n",
    "            columns[(\"\", \"Causes\")].append(causes)\n",
    "\n",
    "        cdf = pd.DataFrame.from_dict(columns)\n",
    "\n",
    "        cdf.index.name = \"Iteration\"\n",
    "        cdf[\"Attributes\"] -= cdf[\"Attributes\"].min()\n",
    "\n",
    "        # put al the attributes together\n",
    "        cdf = cdf[np.sort(cdf.columns)[::-1]]\n",
    "\n",
    "        return cdf\n",
    "\n",
    "\n",
    "# res.modes_argmax()\n",
    "\n",
    "\n",
    "res.plot.n_report(1)\n",
    "\n"
   ]
  },
  {
   "cell_type": "code",
   "execution_count": 9,
   "id": "f99ad923",
   "metadata": {},
   "outputs": [
    {
     "data": {
      "text/plain": [
       "'17.1 kB'"
      ]
     },
     "execution_count": 9,
     "metadata": {},
     "output_type": "execute_result"
    }
   ],
   "source": [
    "import pympler.asizeof, humanize\n",
    "\n",
    "humanize.naturalsize(pympler.asizeof.asizeof(res))"
   ]
  },
  {
   "cell_type": "code",
   "execution_count": 43,
   "id": "76a94bc4",
   "metadata": {},
   "outputs": [
    {
     "data": {
      "text/plain": [
       "array([['h', 'a'],\n",
       "       ['j', 'b'],\n",
       "       ['x', 'z']], dtype='<U1')"
      ]
     },
     "execution_count": 43,
     "metadata": {},
     "output_type": "execute_result"
    }
   ],
   "source": [
    "from collections.abc import Mapping\n",
    "\n",
    "\n",
    "class MiMapa(Mapping):\n",
    "    \n",
    "    def __init__(self, d):\n",
    "        self._d = d\n",
    "        \n",
    "    def __getitem__(self, k):\n",
    "        return self._d.__getitem__(k)\n",
    "    \n",
    "    def __iter__(self):\n",
    "        return iter(self._d)\n",
    "    \n",
    "    def __len__(self):\n",
    "        return len(self._d)\n",
    "    \n",
    "    def __repr__(self):\n",
    "        return f\"MiMapa({self._d!r})\"\n",
    "        \n",
    "lista = [MiMapa({\"h\": 1, \"a\": 1}), MiMapa({\"j\": 2, \"b\": 2}), MiMapa({\"x\": 3, \"z\": 4})]\n",
    "\n",
    "np.array(lista)\n"
   ]
  }
 ],
 "metadata": {
  "kernelspec": {
   "display_name": "Python 3 (ipykernel)",
   "language": "python",
   "name": "python3"
  },
  "language_info": {
   "codemirror_mode": {
    "name": "ipython",
    "version": 3
   },
   "file_extension": ".py",
   "mimetype": "text/x-python",
   "name": "python",
   "nbconvert_exporter": "python",
   "pygments_lexer": "ipython3",
   "version": "3.10.6"
  },
  "vscode": {
   "interpreter": {
    "hash": "8407cd5a849dfd678bb45a16397cf2967972ec23fa9818a23bcb7db22f6a21a9"
   }
  }
 },
 "nbformat": 4,
 "nbformat_minor": 5
}
