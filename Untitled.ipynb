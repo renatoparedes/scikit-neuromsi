{
 "cells": [
  {
   "cell_type": "code",
   "execution_count": 1,
   "id": "c5a1196e-cf9c-44e9-91a4-1a0db3017774",
   "metadata": {},
   "outputs": [
    {
     "data": {
      "application/json": {
       "ascii": false,
       "bar_format": null,
       "colour": null,
       "elapsed": 0.014686346054077148,
       "initial": 0,
       "n": 0,
       "ncols": null,
       "nrows": null,
       "postfix": null,
       "prefix": "",
       "rate": null,
       "total": 100,
       "unit": "it",
       "unit_divisor": 1000,
       "unit_scale": false
      },
      "application/vnd.jupyter.widget-view+json": {
       "model_id": "2f68fd3848bf440096c101a11c2b6555",
       "version_major": 2,
       "version_minor": 0
      },
      "text/plain": [
       "  0%|          | 0/100 [00:00<?, ?it/s]"
      ]
     },
     "metadata": {},
     "output_type": "display_data"
    }
   ],
   "source": [
    "from skneuromsi.neural import Cuppini2017\n",
    "from skneuromsi.cmp import SpatialDisparity\n",
    "from skneuromsi.utils import Bunch\n",
    "\n",
    "from tqdm.notebook import tqdm\n",
    "\n",
    "tqdm.pandas()\n",
    "\n",
    "model = Cuppini2017()\n",
    "\n",
    "rep = SpatialDisparity(\n",
    "    model, repeat=10, n_jobs=-1, target=\"auditory_position\", seed=41,\n",
    ")\n",
    "\n",
    "res = rep.run(noise=True, visual_position=90)\n",
    "\n",
    "del rep\n",
    "#gen, length = rep._run_kwargs_combinations({})\n",
    "\n"
   ]
  },
  {
   "cell_type": "markdown",
   "id": "e5ae4346",
   "metadata": {},
   "source": [
    "# Unity report"
   ]
  },
  {
   "cell_type": "code",
   "execution_count": 13,
   "id": "ac6849e9",
   "metadata": {},
   "outputs": [
    {
     "data": {
      "text/plain": [
       "array([[0.9],\n",
       "       [0.9],\n",
       "       [0.6],\n",
       "       [0.8],\n",
       "       [0.7],\n",
       "       [0.4],\n",
       "       [0.5],\n",
       "       [0.5],\n",
       "       [0.6],\n",
       "       [0.3]])"
      ]
     },
     "execution_count": 13,
     "metadata": {},
     "output_type": "execute_result"
    }
   ],
   "source": [
    "from skneuromsi.utils import Bunch\n",
    "self = Bunch(\"\", {\"_nd_collection\": res})\n",
    "import seaborn as sns\n",
    "\n",
    "res.changing_attributes()\n",
    "\n",
    "def unity_report(self, *, attribute=None, ax=None, **kws):\n",
    "    the_report = self._nd_collection.unity_report(attribute=attribute)\n",
    "    \n",
    "    attribute = the_report.columns[0]\n",
    "    values = the_report[attribute].to_numpy()\n",
    "    \n",
    "    return the_report\n",
    "    ax = sns.lineplot(data=the_report, ax=ax, **kws)\n",
    "    ax.set_ylabel(\"Proportion of unit causes\")\n",
    "    return the_report\n",
    "\n",
    "unity_report(self).to_numpy()"
   ]
  },
  {
   "cell_type": "code",
   "execution_count": null,
   "id": "8861ea65-d5fa-4f13-9675-74387d727e12",
   "metadata": {},
   "outputs": [],
   "source": [
    "res.plot.unity_report()\n"
   ]
  },
  {
   "cell_type": "markdown",
   "id": "ad3d25c0",
   "metadata": {},
   "source": [
    "## N report"
   ]
  },
  {
   "cell_type": "code",
   "execution_count": null,
   "id": "18267103",
   "metadata": {},
   "outputs": [],
   "source": [
    "res.n_report(2)"
   ]
  },
  {
   "cell_type": "code",
   "execution_count": null,
   "id": "4ab32af1",
   "metadata": {},
   "outputs": [],
   "source": [
    "res.n_report(3)"
   ]
  },
  {
   "cell_type": "code",
   "execution_count": null,
   "id": "474afb7a",
   "metadata": {},
   "outputs": [],
   "source": [
    "# hay que mejorar esto\n",
    "res.plot.n_report(2)\n",
    "res.plot.n_report(3)"
   ]
  },
  {
   "cell_type": "markdown",
   "id": "0e1e7fbb",
   "metadata": {},
   "source": [
    "## Mean"
   ]
  },
  {
   "cell_type": "code",
   "execution_count": null,
   "id": "d02139fc",
   "metadata": {},
   "outputs": [],
   "source": [
    "res.mean_report()"
   ]
  },
  {
   "cell_type": "code",
   "execution_count": null,
   "id": "ed736d10",
   "metadata": {},
   "outputs": [],
   "source": [
    "import xarray as xa"
   ]
  },
  {
   "cell_type": "code",
   "execution_count": null,
   "id": "7f927fc8",
   "metadata": {},
   "outputs": [],
   "source": [
    "dset = xa.Dataset()"
   ]
  },
  {
   "cell_type": "code",
   "execution_count": null,
   "id": "656fface",
   "metadata": {},
   "outputs": [],
   "source": [
    "for idx, r in enumerate(res:\n",
    "    dset.update({idx: r._nddata})"
   ]
  },
  {
   "cell_type": "code",
   "execution_count": null,
   "id": "d8ea96ad",
   "metadata": {},
   "outputs": [],
   "source": [
    "import sys"
   ]
  },
  {
   "cell_type": "code",
   "execution_count": null,
   "id": "4bc4971e",
   "metadata": {},
   "outputs": [],
   "source": [
    "Frozen = type(dset.sizes)"
   ]
  },
  {
   "cell_type": "code",
   "execution_count": null,
   "id": "8a32999f",
   "metadata": {},
   "outputs": [],
   "source": [
    "xa.core.utils.K??"
   ]
  },
  {
   "cell_type": "code",
   "execution_count": null,
   "id": "ab68c7cd",
   "metadata": {},
   "outputs": [],
   "source": []
  }
 ],
 "metadata": {
  "kernelspec": {
   "display_name": "Python 3 (ipykernel)",
   "language": "python",
   "name": "python3"
  },
  "language_info": {
   "codemirror_mode": {
    "name": "ipython",
    "version": 3
   },
   "file_extension": ".py",
   "mimetype": "text/x-python",
   "name": "python",
   "nbconvert_exporter": "python",
   "pygments_lexer": "ipython3",
   "version": "3.10.6"
  },
  "vscode": {
   "interpreter": {
    "hash": "8407cd5a849dfd678bb45a16397cf2967972ec23fa9818a23bcb7db22f6a21a9"
   }
  }
 },
 "nbformat": 4,
 "nbformat_minor": 5
}
