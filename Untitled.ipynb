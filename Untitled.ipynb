{
 "cells": [
  {
   "cell_type": "code",
   "execution_count": 1,
   "id": "c5a1196e-cf9c-44e9-91a4-1a0db3017774",
   "metadata": {},
   "outputs": [
    {
     "data": {
      "application/json": {
       "ascii": false,
       "bar_format": null,
       "colour": null,
       "elapsed": 0.01593613624572754,
       "initial": 0,
       "n": 0,
       "ncols": null,
       "nrows": null,
       "postfix": null,
       "prefix": "",
       "rate": null,
       "total": 100,
       "unit": "it",
       "unit_divisor": 1000,
       "unit_scale": false
      },
      "application/vnd.jupyter.widget-view+json": {
       "model_id": "012fa6d3a72345d98f74a4bcd5787405",
       "version_major": 2,
       "version_minor": 0
      },
      "text/plain": [
       "  0%|          | 0/100 [00:00<?, ?it/s]"
      ]
     },
     "metadata": {},
     "output_type": "display_data"
    }
   ],
   "source": [
    "from skneuromsi.neural import Cuppini2017\n",
    "from skneuromsi.cmp import SpatialDisparity\n",
    "from skneuromsi.utils import Bunch\n",
    "\n",
    "from tqdm.notebook import tqdm\n",
    "\n",
    "tqdm.pandas()\n",
    "\n",
    "model = Cuppini2017()\n",
    "\n",
    "rep = SpatialDisparity(\n",
    "    model, repeat=10, n_jobs=-1, target=\"auditory_position\", seed=41,\n",
    ")\n",
    "\n",
    "res = rep.run(noise=True, visual_position=90)\n",
    "\n",
    "del rep\n",
    "#gen, length = rep._run_kwargs_combinations({})\n",
    "\n"
   ]
  },
  {
   "cell_type": "code",
   "execution_count": 11,
   "id": "ab68c7cd",
   "metadata": {},
   "outputs": [
    {
     "data": {
      "text/plain": [
       "Text(0, 0.5, 'Proportion')"
      ]
     },
     "execution_count": 11,
     "metadata": {},
     "output_type": "execute_result"
    },
    {
     "data": {
      "image/png": "[encoded data removed]",
      "text/plain": [
       "<Figure size 432x288 with 1 Axes>"
      ]
     },
     "metadata": {
      "needs_background": "light"
     },
     "output_type": "display_data"
    }
   ],
   "source": [
    "for causes in res.unique_causes():\n",
    "    ax = res.plot.n_report(n=causes, label=f\"Cause {causes}\", alpha=.5, ls=\"--\")\n",
    "    \n",
    "res.plot.mean_report(label=f\"Mean\", color=\"k\", ax=ax)\n",
    "\n",
    "ax.set_ylabel(\"Proportion\")"
   ]
  },
  {
   "cell_type": "code",
   "execution_count": 29,
   "id": "d92e88b4",
   "metadata": {},
   "outputs": [
    {
     "data": {
      "text/html": [
       "<div>\n",
       "<style scoped>\n",
       "    .dataframe tbody tr th:only-of-type {\n",
       "        vertical-align: middle;\n",
       "    }\n",
       "\n",
       "    .dataframe tbody tr th {\n",
       "        vertical-align: top;\n",
       "    }\n",
       "\n",
       "    .dataframe thead th {\n",
       "        text-align: right;\n",
       "    }\n",
       "</style>\n",
       "<table border=\"1\" class=\"dataframe\">\n",
       "  <thead>\n",
       "    <tr style=\"text-align: right;\">\n",
       "      <th>Attributes</th>\n",
       "      <th>auditory_position</th>\n",
       "    </tr>\n",
       "    <tr>\n",
       "      <th>Disparity</th>\n",
       "      <th></th>\n",
       "    </tr>\n",
       "  </thead>\n",
       "  <tbody>\n",
       "    <tr>\n",
       "      <th>0</th>\n",
       "      <td>1.1</td>\n",
       "    </tr>\n",
       "    <tr>\n",
       "      <th>2</th>\n",
       "      <td>1.2</td>\n",
       "    </tr>\n",
       "    <tr>\n",
       "      <th>4</th>\n",
       "      <td>1.5</td>\n",
       "    </tr>\n",
       "    <tr>\n",
       "      <th>6</th>\n",
       "      <td>1.2</td>\n",
       "    </tr>\n",
       "    <tr>\n",
       "      <th>8</th>\n",
       "      <td>1.4</td>\n",
       "    </tr>\n",
       "    <tr>\n",
       "      <th>10</th>\n",
       "      <td>1.8</td>\n",
       "    </tr>\n",
       "    <tr>\n",
       "      <th>12</th>\n",
       "      <td>1.7</td>\n",
       "    </tr>\n",
       "    <tr>\n",
       "      <th>14</th>\n",
       "      <td>1.6</td>\n",
       "    </tr>\n",
       "    <tr>\n",
       "      <th>16</th>\n",
       "      <td>1.7</td>\n",
       "    </tr>\n",
       "    <tr>\n",
       "      <th>18</th>\n",
       "      <td>2.4</td>\n",
       "    </tr>\n",
       "  </tbody>\n",
       "</table>\n",
       "</div>"
      ],
      "text/plain": [
       "Attributes  auditory_position\n",
       "Disparity                    \n",
       "0                         1.1\n",
       "2                         1.2\n",
       "4                         1.5\n",
       "6                         1.2\n",
       "8                         1.4\n",
       "10                        1.8\n",
       "12                        1.7\n",
       "14                        1.6\n",
       "16                        1.7\n",
       "18                        2.4"
      ]
     },
     "execution_count": 29,
     "metadata": {},
     "output_type": "execute_result"
    }
   ],
   "source": [
    "res.mean_report()"
   ]
  },
  {
   "cell_type": "code",
   "execution_count": 43,
   "id": "23d94262",
   "metadata": {},
   "outputs": [
    {
     "ename": "AttributeError",
     "evalue": "'Int64Index' object has no attribute 'levels'",
     "output_type": "error",
     "traceback": [
      "\u001b[0;31m---------------------------------------------------------------------------\u001b[0m",
      "\u001b[0;31mAttributeError\u001b[0m                            Traceback (most recent call last)",
      "\u001b[1;32m/home/juanbc/proyectos/skneuromsi/src/Untitled.ipynb Celda 4\u001b[0m in \u001b[0;36m<cell line: 19>\u001b[0;34m()\u001b[0m\n\u001b[1;32m     <a href='vscode-notebook-cell:/home/juanbc/proyectos/skneuromsi/src/Untitled.ipynb#X25sZmlsZQ%3D%3D?line=13'>14</a>\u001b[0m     report\u001b[39m.\u001b[39mcolumns\u001b[39m.\u001b[39mname \u001b[39m=\u001b[39m \u001b[39m\"\u001b[39m\u001b[39mCauses\u001b[39m\u001b[39m\"\u001b[39m\n\u001b[1;32m     <a href='vscode-notebook-cell:/home/juanbc/proyectos/skneuromsi/src/Untitled.ipynb#X25sZmlsZQ%3D%3D?line=15'>16</a>\u001b[0m     \u001b[39mreturn\u001b[39;00m report\n\u001b[0;32m---> <a href='vscode-notebook-cell:/home/juanbc/proyectos/skneuromsi/src/Untitled.ipynb#X25sZmlsZQ%3D%3D?line=18'>19</a>\u001b[0m mi \u001b[39m=\u001b[39m describe_report(res)\u001b[39m.\u001b[39mcolumns\n",
      "\u001b[1;32m/home/juanbc/proyectos/skneuromsi/src/Untitled.ipynb Celda 4\u001b[0m in \u001b[0;36mdescribe_report\u001b[0;34m(self, attribute)\u001b[0m\n\u001b[1;32m      <a href='vscode-notebook-cell:/home/juanbc/proyectos/skneuromsi/src/Untitled.ipynb#X25sZmlsZQ%3D%3D?line=8'>9</a>\u001b[0m report \u001b[39m=\u001b[39m groups\u001b[39m.\u001b[39mdescribe()\n\u001b[1;32m     <a href='vscode-notebook-cell:/home/juanbc/proyectos/skneuromsi/src/Untitled.ipynb#X25sZmlsZQ%3D%3D?line=10'>11</a>\u001b[0m report\u001b[39m.\u001b[39mindex\u001b[39m.\u001b[39mname \u001b[39m=\u001b[39m \u001b[39m\"\u001b[39m\u001b[39mDisparity\u001b[39m\u001b[39m\"\u001b[39m\n\u001b[0;32m---> <a href='vscode-notebook-cell:/home/juanbc/proyectos/skneuromsi/src/Untitled.ipynb#X25sZmlsZQ%3D%3D?line=12'>13</a>\u001b[0m report\u001b[39m.\u001b[39mcolumns \u001b[39m=\u001b[39m pd\u001b[39m.\u001b[39mMultiIndex\u001b[39m.\u001b[39mfrom_product([[attribute], report\u001b[39m.\u001b[39;49mindex\u001b[39m.\u001b[39;49mlevels[\u001b[39m-\u001b[39m\u001b[39m1\u001b[39m]])\n\u001b[1;32m     <a href='vscode-notebook-cell:/home/juanbc/proyectos/skneuromsi/src/Untitled.ipynb#X25sZmlsZQ%3D%3D?line=13'>14</a>\u001b[0m report\u001b[39m.\u001b[39mcolumns\u001b[39m.\u001b[39mname \u001b[39m=\u001b[39m \u001b[39m\"\u001b[39m\u001b[39mCauses\u001b[39m\u001b[39m\"\u001b[39m\n\u001b[1;32m     <a href='vscode-notebook-cell:/home/juanbc/proyectos/skneuromsi/src/Untitled.ipynb#X25sZmlsZQ%3D%3D?line=15'>16</a>\u001b[0m \u001b[39mreturn\u001b[39;00m report\n",
      "\u001b[0;31mAttributeError\u001b[0m: 'Int64Index' object has no attribute 'levels'"
     ]
    }
   ],
   "source": [
    "import pandas as pd\n",
    "\n",
    "\n",
    "def describe_report(self, *, attribute=None):\n",
    "    attribute = self._get_attribute_by(attribute)\n",
    "    cdf = self.causes_by_attribute(attribute=attribute)\n",
    "\n",
    "    groups = cdf.groupby((\"Attributes\", attribute))\n",
    "    report = groups.describe()\n",
    "\n",
    "    report.index.name = \"Disparity\"\n",
    "\n",
    "    columns = report.index\n",
    "    report.columns = pd.MultiIndex.from_product(\n",
    "        [[attribute], columns.levels[-1]]\n",
    "    )\n",
    "    report.columns.name = \"Causes\"\n",
    "\n",
    "    return report\n",
    "\n",
    "\n",
    "mi = describe_report(res).columns\n"
   ]
  },
  {
   "cell_type": "code",
   "execution_count": null,
   "id": "7e9ecee3",
   "metadata": {},
   "outputs": [],
   "source": []
  }
 ],
 "metadata": {
  "kernelspec": {
   "display_name": "Python 3 (ipykernel)",
   "language": "python",
   "name": "python3"
  },
  "language_info": {
   "codemirror_mode": {
    "name": "ipython",
    "version": 3
   },
   "file_extension": ".py",
   "mimetype": "text/x-python",
   "name": "python",
   "nbconvert_exporter": "python",
   "pygments_lexer": "ipython3",
   "version": "3.10.6"
  },
  "vscode": {
   "interpreter": {
    "hash": "8407cd5a849dfd678bb45a16397cf2967972ec23fa9818a23bcb7db22f6a21a9"
   }
  }
 },
 "nbformat": 4,
 "nbformat_minor": 5
}
