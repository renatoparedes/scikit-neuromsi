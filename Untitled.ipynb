{
 "cells": [
  {
   "cell_type": "code",
   "execution_count": 36,
   "id": "1016d4b3-7e5f-4aff-910b-b7d5b5a7b8bb",
   "metadata": {},
   "outputs": [
    {
     "name": "stdout",
     "output_type": "stream",
     "text": [
      "['mode_0', 'mode_1']\n"
     ]
    },
    {
     "ename": "NameError",
     "evalue": "name 'output_mode' is not defined",
     "output_type": "error",
     "traceback": [
      "\u001b[0;31m---------------------------------------------------------------------------\u001b[0m",
      "\u001b[0;31mNameError\u001b[0m                                 Traceback (most recent call last)",
      "Input \u001b[0;32mIn [36]\u001b[0m, in \u001b[0;36m<cell line: 44>\u001b[0;34m()\u001b[0m\n\u001b[1;32m     41\u001b[0m     \u001b[38;5;28;01mreturn\u001b[39;00m make\n\u001b[1;32m     43\u001b[0m make \u001b[38;5;241m=\u001b[39m coso()\n\u001b[0;32m---> 44\u001b[0m \u001b[43mmake\u001b[49m\u001b[43m(\u001b[49m\u001b[43m)\u001b[49m\n",
      "Input \u001b[0;32mIn [36]\u001b[0m, in \u001b[0;36mcoso.<locals>.make\u001b[0;34m(mname, mtype, nmap, min_input_modes, max_input_modes, time_range, position_range, time_res, position_res, causes, run_params, extra, ensure_dtype, seed)\u001b[0m\n\u001b[1;32m     37\u001b[0m modes \u001b[38;5;241m=\u001b[39m [\u001b[38;5;124mf\u001b[39m\u001b[38;5;124m\"\u001b[39m\u001b[38;5;124mmode_\u001b[39m\u001b[38;5;132;01m{\u001b[39;00mmode_idx\u001b[38;5;132;01m}\u001b[39;00m\u001b[38;5;124m\"\u001b[39m \u001b[38;5;28;01mfor\u001b[39;00m mode_idx \u001b[38;5;129;01min\u001b[39;00m \u001b[38;5;28mrange\u001b[39m(modes_number)]\n\u001b[1;32m     38\u001b[0m \u001b[38;5;28mprint\u001b[39m(modes)\n\u001b[0;32m---> 39\u001b[0m \u001b[43moutput_mode\u001b[49m [\u001b[38;5;124m\"\u001b[39m\u001b[38;5;124moutput_mode\u001b[39m\u001b[38;5;124m\"\u001b[39m]\n",
      "\u001b[0;31mNameError\u001b[0m: name 'output_mode' is not defined"
     ]
    }
   ],
   "source": [
    "import numpy as np\n",
    "\n",
    "\n",
    "\n",
    "def coso():\n",
    "    model_idx = -1\n",
    "    def make(\n",
    "        mname=None,\n",
    "        mtype=None,\n",
    "        nmap=None,\n",
    "        min_input_modes = 2,\n",
    "        max_input_modes = 3,\n",
    "        data_size_min = 100,\n",
    "        data_size_max = 1000,\n",
    "        \n",
    "        time_range=None,\n",
    "        position_range=None,\n",
    "        time_res=None,\n",
    "        position_res=None,\n",
    "        causes=None,\n",
    "        run_params=None,\n",
    "        extra=None,\n",
    "        ensure_dtype=None,\n",
    "        seed=None,\n",
    "    ):  \n",
    "        \n",
    "        nonlocal model_idx\n",
    "        if min_input_modes < 1:\n",
    "            raise ValueError(\"min_input_mode must be >= 1\")\n",
    "\n",
    "        model_idx += 1\n",
    "        random = np.random.default_rng(seed)\n",
    "\n",
    "        mname = f\"TestModel{model_idx}\" if mname is None else mname\n",
    "\n",
    "\n",
    "        modes_number = random.integers(min_input_modes, max_input_modes, endpoint=True)\n",
    "        \n",
    "        # modes\n",
    "        modes = [f\"mode_{mode_idx}\" for mode_idx in range(modes_number)]\n",
    "        output_mode [\"output_mode\"]\n",
    "        \n",
    "        \n",
    "        \n",
    "    return make\n",
    "\n",
    "make = coso()\n",
    "make()"
   ]
  },
  {
   "cell_type": "code",
   "execution_count": 15,
   "id": "c6994681-97f2-455d-9235-ed1b0bd7ef41",
   "metadata": {},
   "outputs": [],
   "source": [
    "random = np.random.default_rng()"
   ]
  },
  {
   "cell_type": "code",
   "execution_count": 16,
   "id": "2b564ce8-2858-4056-ab51-33e4aa3c0654",
   "metadata": {},
   "outputs": [
    {
     "data": {
      "text/plain": [
       "\u001b[0;31mDocstring:\u001b[0m\n",
       "integers(low, high=None, size=None, dtype=np.int64, endpoint=False)\n",
       "\n",
       "Return random integers from `low` (inclusive) to `high` (exclusive), or\n",
       "if endpoint=True, `low` (inclusive) to `high` (inclusive). Replaces\n",
       "`RandomState.randint` (with endpoint=False) and\n",
       "`RandomState.random_integers` (with endpoint=True)\n",
       "\n",
       "Return random integers from the \"discrete uniform\" distribution of\n",
       "the specified dtype. If `high` is None (the default), then results are\n",
       "from 0 to `low`.\n",
       "\n",
       "Parameters\n",
       "----------\n",
       "low : int or array-like of ints\n",
       "    Lowest (signed) integers to be drawn from the distribution (unless\n",
       "    ``high=None``, in which case this parameter is 0 and this value is\n",
       "    used for `high`).\n",
       "high : int or array-like of ints, optional\n",
       "    If provided, one above the largest (signed) integer to be drawn\n",
       "    from the distribution (see above for behavior if ``high=None``).\n",
       "    If array-like, must contain integer values\n",
       "size : int or tuple of ints, optional\n",
       "    Output shape.  If the given shape is, e.g., ``(m, n, k)``, then\n",
       "    ``m * n * k`` samples are drawn.  Default is None, in which case a\n",
       "    single value is returned.\n",
       "dtype : dtype, optional\n",
       "    Desired dtype of the result. Byteorder must be native.\n",
       "    The default value is np.int64.\n",
       "endpoint : bool, optional\n",
       "    If true, sample from the interval [low, high] instead of the\n",
       "    default [low, high)\n",
       "    Defaults to False\n",
       "\n",
       "Returns\n",
       "-------\n",
       "out : int or ndarray of ints\n",
       "    `size`-shaped array of random integers from the appropriate\n",
       "    distribution, or a single such random int if `size` not provided.\n",
       "\n",
       "Notes\n",
       "-----\n",
       "When using broadcasting with uint64 dtypes, the maximum value (2**64)\n",
       "cannot be represented as a standard integer type. The high array (or\n",
       "low if high is None) must have object dtype, e.g., array([2**64]).\n",
       "\n",
       "Examples\n",
       "--------\n",
       ">>> rng = np.random.default_rng()\n",
       ">>> rng.integers(2, size=10)\n",
       "array([1, 0, 0, 0, 1, 1, 0, 0, 1, 0])  # random\n",
       ">>> rng.integers(1, size=10)\n",
       "array([0, 0, 0, 0, 0, 0, 0, 0, 0, 0])\n",
       "\n",
       "Generate a 2 x 4 array of ints between 0 and 4, inclusive:\n",
       "\n",
       ">>> rng.integers(5, size=(2, 4))\n",
       "array([[4, 0, 2, 1],\n",
       "       [3, 2, 2, 0]])  # random\n",
       "\n",
       "Generate a 1 x 3 array with 3 different upper bounds\n",
       "\n",
       ">>> rng.integers(1, [3, 5, 10])\n",
       "array([2, 2, 9])  # random\n",
       "\n",
       "Generate a 1 by 3 array with 3 different lower bounds\n",
       "\n",
       ">>> rng.integers([1, 5, 7], 10)\n",
       "array([9, 8, 7])  # random\n",
       "\n",
       "Generate a 2 by 4 array using broadcasting with dtype of uint8\n",
       "\n",
       ">>> rng.integers([1, 3, 5, 7], [[10], [20]], dtype=np.uint8)\n",
       "array([[ 8,  6,  9,  7],\n",
       "       [ 1, 16,  9, 12]], dtype=uint8)  # random\n",
       "\n",
       "References\n",
       "----------\n",
       ".. [1] Daniel Lemire., \"Fast Random Integer Generation in an Interval\",\n",
       "       ACM Transactions on Modeling and Computer Simulation 29 (1), 2019,\n",
       "       http://arxiv.org/abs/1805.10941.\n",
       "\u001b[0;31mType:\u001b[0m      builtin_function_or_method\n"
      ]
     },
     "metadata": {},
     "output_type": "display_data"
    }
   ],
   "source": [
    "random.integers"
   ]
  }
 ],
 "metadata": {
  "kernelspec": {
   "display_name": "Python 3 (ipykernel)",
   "language": "python",
   "name": "python3"
  },
  "language_info": {
   "codemirror_mode": {
    "name": "ipython",
    "version": 3
   },
   "file_extension": ".py",
   "mimetype": "text/x-python",
   "name": "python",
   "nbconvert_exporter": "python",
   "pygments_lexer": "ipython3",
   "version": "3.10.12"
  }
 },
 "nbformat": 4,
 "nbformat_minor": 5
}
