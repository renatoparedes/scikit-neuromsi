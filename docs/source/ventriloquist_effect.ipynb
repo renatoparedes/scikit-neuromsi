{
 "cells": [
  {
   "cell_type": "markdown",
   "id": "06b9992d",
   "metadata": {},
   "source": [
    "# Ventriloquist Effect"
   ]
  }
 ],
 "metadata": {
  "language_info": {
   "name": "python"
  }
 },
 "nbformat": 4,
 "nbformat_minor": 5
}
