{
 "cells": [
  {
   "cell_type": "markdown",
   "id": "18478834",
   "metadata": {},
   "source": [
    "# Sound-Induced Flash Illusion"
   ]
  }
 ],
 "metadata": {
  "language_info": {
   "name": "python"
  }
 },
 "nbformat": 4,
 "nbformat_minor": 5
}
