{
 "cells": [
  {
   "cell_type": "markdown",
   "id": "10f7bd35",
   "metadata": {},
   "source": [
    "# Model comparison"
   ]
  }
 ],
 "metadata": {
  "language_info": {
   "name": "python"
  }
 },
 "nbformat": 4,
 "nbformat_minor": 5
}
