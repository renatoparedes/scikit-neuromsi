{
 "cells": [
  {
   "cell_type": "code",
   "execution_count": 1,
   "id": "7d9a2a2c-d2b8-4091-9611-3466fb8f5390",
   "metadata": {},
   "outputs": [
    {
     "data": {
      "application/json": {
       "ascii": false,
       "bar_format": null,
       "colour": null,
       "elapsed": 0.01306295394897461,
       "initial": 0,
       "n": 0,
       "ncols": null,
       "nrows": null,
       "postfix": null,
       "prefix": "Sweeping 'auditory_position'",
       "rate": null,
       "total": 10,
       "unit": "it",
       "unit_divisor": 1000,
       "unit_scale": false
      },
      "application/vnd.jupyter.widget-view+json": {
       "model_id": "866ebbf5e2e94e0da578783b4aab4799",
       "version_major": 2,
       "version_minor": 0
      },
      "text/plain": [
       "Sweeping 'auditory_position':   0%|          | 0/10 [00:00<?, ?it/s]"
      ]
     },
     "metadata": {},
     "output_type": "display_data"
    },
    {
     "data": {
      "application/json": {
       "ascii": false,
       "bar_format": null,
       "colour": null,
       "elapsed": 0.014139652252197266,
       "initial": 0,
       "n": 0,
       "ncols": null,
       "nrows": null,
       "postfix": null,
       "prefix": "Collecting metadata",
       "rate": null,
       "total": 10,
       "unit": "it",
       "unit_divisor": 1000,
       "unit_scale": false
      },
      "application/vnd.jupyter.widget-view+json": {
       "model_id": "a5040cadd4fa430eab87f7d2d5cafcc8",
       "version_major": 2,
       "version_minor": 0
      },
      "text/plain": [
       "Collecting metadata:   0%|          | 0/10 [00:00<?, ?it/s]"
      ]
     },
     "metadata": {},
     "output_type": "display_data"
    }
   ],
   "source": [
    "from skneuromsi import core\n",
    "from skneuromsi.neural import Cuppini2017\n",
    "from skneuromsi.cmp import ParameterSweep, storages\n",
    "from skneuromsi.utils import Bunch\n",
    "import pandas as pd\n",
    "import numpy as np\n",
    "from skneuromsi import io\n",
    "\n",
    "from tqdm.notebook import tqdm\n",
    "\n",
    "import joblib\n",
    "\n",
    "import xarray as xa\n",
    "\n",
    "import sys\n",
    "\n",
    "\n",
    "# sg = storages.DirectoryStorage(10, \".\")\n",
    "# sg[0] = \"hola\"\n",
    "# import ipdb; ipdb.set_trace()\n",
    "\n",
    "tqdm.pandas()\n",
    "\n",
    "model = Cuppini2017()\n",
    "\n",
    "rep = ParameterSweep(\n",
    "    model,\n",
    "    repeat=1,\n",
    "    n_jobs=-1,\n",
    "    target=\"auditory_position\",\n",
    "    seed=41,\n",
    "    range=50 + np.arange(2, 22, 2),\n",
    ")\n",
    "\n",
    "res = rep.run(noise=True, visual_position=50)"
   ]
  },
  {
   "cell_type": "code",
   "execution_count": 14,
   "id": "9ea61578",
   "metadata": {},
   "outputs": [
    {
     "name": "stdout",
     "output_type": "stream",
     "text": [
      "netcdf4 __ndrc[0]__\n"
     ]
    },
    {
     "ename": "ValueError",
     "evalue": "cannot save to a group with the scipy.io.netcdf backend",
     "output_type": "error",
     "traceback": [
      "\u001b[0;31m---------------------------------------------------------------------------\u001b[0m",
      "\u001b[0;31mValueError\u001b[0m                                Traceback (most recent call last)",
      "\u001b[1;32m/home/juanbc/proyectos/skneuromsi/src/Untitled1.ipynb Celda 2\u001b[0m in \u001b[0;36m<cell line: 68>\u001b[0;34m()\u001b[0m\n\u001b[1;32m     <a href='vscode-notebook-cell:/home/juanbc/proyectos/skneuromsi/src/Untitled1.ipynb#W3sZmlsZQ%3D%3D?line=57'>58</a>\u001b[0m             \u001b[39mprint\u001b[39m(engine, group)\n\u001b[1;32m     <a href='vscode-notebook-cell:/home/juanbc/proyectos/skneuromsi/src/Untitled1.ipynb#W3sZmlsZQ%3D%3D?line=59'>60</a>\u001b[0m             nddata\u001b[39m.\u001b[39mto_netcdf(fp, engine\u001b[39m=\u001b[39m\u001b[39m\"\u001b[39m\u001b[39mnetcdf4\u001b[39m\u001b[39m\"\u001b[39m, group\u001b[39m=\u001b[39mgroup, \u001b[39m*\u001b[39m\u001b[39m*\u001b[39mkwargs)\n\u001b[0;32m---> <a href='vscode-notebook-cell:/home/juanbc/proyectos/skneuromsi/src/Untitled1.ipynb#W3sZmlsZQ%3D%3D?line=67'>68</a>\u001b[0m to_ndc(\u001b[39m\"\u001b[39;49m\u001b[39mcoso.ndc\u001b[39;49m\u001b[39m\"\u001b[39;49m, res)\n",
      "\u001b[1;32m/home/juanbc/proyectos/skneuromsi/src/Untitled1.ipynb Celda 2\u001b[0m in \u001b[0;36mto_ndc\u001b[0;34m(path_or_stream, ndrcollection, metadata, **kwargs)\u001b[0m\n\u001b[1;32m     <a href='vscode-notebook-cell:/home/juanbc/proyectos/skneuromsi/src/Untitled1.ipynb#W3sZmlsZQ%3D%3D?line=48'>49</a>\u001b[0m nddata \u001b[39m=\u001b[39m _darray_metadata_merger(\n\u001b[1;32m     <a href='vscode-notebook-cell:/home/juanbc/proyectos/skneuromsi/src/Untitled1.ipynb#W3sZmlsZQ%3D%3D?line=49'>50</a>\u001b[0m     nddata,\n\u001b[1;32m     <a href='vscode-notebook-cell:/home/juanbc/proyectos/skneuromsi/src/Untitled1.ipynb#W3sZmlsZQ%3D%3D?line=50'>51</a>\u001b[0m     size\u001b[39m=\u001b[39m\u001b[39mNone\u001b[39;00m,\n\u001b[0;32m   (...)\u001b[0m\n\u001b[1;32m     <a href='vscode-notebook-cell:/home/juanbc/proyectos/skneuromsi/src/Untitled1.ipynb#W3sZmlsZQ%3D%3D?line=54'>55</a>\u001b[0m     extra_metadata\u001b[39m=\u001b[39m{},\n\u001b[1;32m     <a href='vscode-notebook-cell:/home/juanbc/proyectos/skneuromsi/src/Untitled1.ipynb#W3sZmlsZQ%3D%3D?line=55'>56</a>\u001b[0m )\n\u001b[1;32m     <a href='vscode-notebook-cell:/home/juanbc/proyectos/skneuromsi/src/Untitled1.ipynb#W3sZmlsZQ%3D%3D?line=57'>58</a>\u001b[0m \u001b[39mprint\u001b[39m(engine, group)\n\u001b[0;32m---> <a href='vscode-notebook-cell:/home/juanbc/proyectos/skneuromsi/src/Untitled1.ipynb#W3sZmlsZQ%3D%3D?line=59'>60</a>\u001b[0m nddata\u001b[39m.\u001b[39;49mto_netcdf(fp, engine\u001b[39m=\u001b[39;49m\u001b[39m\"\u001b[39;49m\u001b[39mnetcdf4\u001b[39;49m\u001b[39m\"\u001b[39;49m, group\u001b[39m=\u001b[39;49mgroup, \u001b[39m*\u001b[39;49m\u001b[39m*\u001b[39;49mkwargs)\n",
      "File \u001b[0;32m~/proyectos/skneuromsi/lib/python3.10/site-packages/xarray/core/dataarray.py:3217\u001b[0m, in \u001b[0;36mDataArray.to_netcdf\u001b[0;34m(self, path, mode, format, group, engine, encoding, unlimited_dims, compute, invalid_netcdf)\u001b[0m\n\u001b[1;32m   3213\u001b[0m \u001b[39melse\u001b[39;00m:\n\u001b[1;32m   3214\u001b[0m     \u001b[39m# No problems with the name - so we're fine!\u001b[39;00m\n\u001b[1;32m   3215\u001b[0m     dataset \u001b[39m=\u001b[39m \u001b[39mself\u001b[39m\u001b[39m.\u001b[39mto_dataset()\n\u001b[0;32m-> 3217\u001b[0m \u001b[39mreturn\u001b[39;00m to_netcdf(  \u001b[39m# type: ignore  # mypy cannot resolve the overloads:(\u001b[39;49;00m\n\u001b[1;32m   3218\u001b[0m     dataset,\n\u001b[1;32m   3219\u001b[0m     path,\n\u001b[1;32m   3220\u001b[0m     mode\u001b[39m=\u001b[39;49mmode,\n\u001b[1;32m   3221\u001b[0m     \u001b[39mformat\u001b[39;49m\u001b[39m=\u001b[39;49m\u001b[39mformat\u001b[39;49m,\n\u001b[1;32m   3222\u001b[0m     group\u001b[39m=\u001b[39;49mgroup,\n\u001b[1;32m   3223\u001b[0m     engine\u001b[39m=\u001b[39;49mengine,\n\u001b[1;32m   3224\u001b[0m     encoding\u001b[39m=\u001b[39;49mencoding,\n\u001b[1;32m   3225\u001b[0m     unlimited_dims\u001b[39m=\u001b[39;49munlimited_dims,\n\u001b[1;32m   3226\u001b[0m     compute\u001b[39m=\u001b[39;49mcompute,\n\u001b[1;32m   3227\u001b[0m     multifile\u001b[39m=\u001b[39;49m\u001b[39mFalse\u001b[39;49;00m,\n\u001b[1;32m   3228\u001b[0m     invalid_netcdf\u001b[39m=\u001b[39;49minvalid_netcdf,\n\u001b[1;32m   3229\u001b[0m )\n",
      "File \u001b[0;32m~/proyectos/skneuromsi/lib/python3.10/site-packages/xarray/backends/api.py:1193\u001b[0m, in \u001b[0;36mto_netcdf\u001b[0;34m(dataset, path_or_file, mode, format, group, engine, encoding, unlimited_dims, compute, multifile, invalid_netcdf)\u001b[0m\n\u001b[1;32m   1189\u001b[0m     \u001b[39melse\u001b[39;00m:\n\u001b[1;32m   1190\u001b[0m         \u001b[39mraise\u001b[39;00m \u001b[39mValueError\u001b[39;00m(\n\u001b[1;32m   1191\u001b[0m             \u001b[39mf\u001b[39m\u001b[39m\"\u001b[39m\u001b[39munrecognized option \u001b[39m\u001b[39m'\u001b[39m\u001b[39minvalid_netcdf\u001b[39m\u001b[39m'\u001b[39m\u001b[39m for engine \u001b[39m\u001b[39m{\u001b[39;00mengine\u001b[39m}\u001b[39;00m\u001b[39m\"\u001b[39m\n\u001b[1;32m   1192\u001b[0m         )\n\u001b[0;32m-> 1193\u001b[0m store \u001b[39m=\u001b[39m store_open(target, mode, \u001b[39mformat\u001b[39;49m, group, \u001b[39m*\u001b[39;49m\u001b[39m*\u001b[39;49mkwargs)\n\u001b[1;32m   1195\u001b[0m \u001b[39mif\u001b[39;00m unlimited_dims \u001b[39mis\u001b[39;00m \u001b[39mNone\u001b[39;00m:\n\u001b[1;32m   1196\u001b[0m     unlimited_dims \u001b[39m=\u001b[39m dataset\u001b[39m.\u001b[39mencoding\u001b[39m.\u001b[39mget(\u001b[39m\"\u001b[39m\u001b[39munlimited_dims\u001b[39m\u001b[39m\"\u001b[39m, \u001b[39mNone\u001b[39;00m)\n",
      "File \u001b[0;32m~/proyectos/skneuromsi/lib/python3.10/site-packages/xarray/backends/scipy_.py:131\u001b[0m, in \u001b[0;36mScipyDataStore.__init__\u001b[0;34m(self, filename_or_obj, mode, format, group, mmap, lock)\u001b[0m\n\u001b[1;32m    127\u001b[0m \u001b[39mdef\u001b[39;00m \u001b[39m__init__\u001b[39m(\n\u001b[1;32m    128\u001b[0m     \u001b[39mself\u001b[39m, filename_or_obj, mode\u001b[39m=\u001b[39m\u001b[39m\"\u001b[39m\u001b[39mr\u001b[39m\u001b[39m\"\u001b[39m, \u001b[39mformat\u001b[39m\u001b[39m=\u001b[39m\u001b[39mNone\u001b[39;00m, group\u001b[39m=\u001b[39m\u001b[39mNone\u001b[39;00m, mmap\u001b[39m=\u001b[39m\u001b[39mNone\u001b[39;00m, lock\u001b[39m=\u001b[39m\u001b[39mNone\u001b[39;00m\n\u001b[1;32m    129\u001b[0m ):\n\u001b[1;32m    130\u001b[0m     \u001b[39mif\u001b[39;00m group \u001b[39mis\u001b[39;00m \u001b[39mnot\u001b[39;00m \u001b[39mNone\u001b[39;00m:\n\u001b[0;32m--> 131\u001b[0m         \u001b[39mraise\u001b[39;00m \u001b[39mValueError\u001b[39;00m(\u001b[39m\"\u001b[39m\u001b[39mcannot save to a group with the scipy.io.netcdf backend\u001b[39m\u001b[39m\"\u001b[39m)\n\u001b[1;32m    133\u001b[0m     \u001b[39mif\u001b[39;00m \u001b[39mformat\u001b[39m \u001b[39mis\u001b[39;00m \u001b[39mNone\u001b[39;00m \u001b[39mor\u001b[39;00m \u001b[39mformat\u001b[39m \u001b[39m==\u001b[39m \u001b[39m\"\u001b[39m\u001b[39mNETCDF3_64BIT\u001b[39m\u001b[39m\"\u001b[39m:\n\u001b[1;32m    134\u001b[0m         version \u001b[39m=\u001b[39m \u001b[39m2\u001b[39m\n",
      "\u001b[0;31mValueError\u001b[0m: cannot save to a group with the scipy.io.netcdf backend"
     ]
    }
   ],
   "source": [
    "from skneuromsi import core, VERSION, cmp\n",
    "import datetime as dt\n",
    "import platform\n",
    "import sys\n",
    "import json\n",
    "\n",
    "from skneuromsi.io import *\n",
    "from skneuromsi.io import _darray_metadata_merger, _ObjTypes, _get_buffer, _DEFAULT_ENGINE\n",
    "\n",
    "\n",
    "\n",
    "def to_ndc(path_or_stream, ndrcollection, metadata=None, **kwargs):\n",
    "    if not isinstance(ndrcollection, cmp.NDResultCollection):\n",
    "        raise TypeError(\n",
    "            f\"'ndrcollection' must be an instance of {cmp.NDResultCollection!r}\"\n",
    "        )\n",
    "    \n",
    "    \n",
    "    da_info_ndrcollection = xa.DataArray()\n",
    "    ndrcollection_size = len(ndrcollection)\n",
    "    ndrcollection_kwargs = {\n",
    "        \"name\": ndrcollection.name,\n",
    "        \n",
    "    }\n",
    "    \n",
    "    # timestamp\n",
    "    now = dt.datetime.utcnow()\n",
    "    engine= \"netcdf4\"\n",
    "    \n",
    "    \n",
    "    da_info_ndrcollection = _darray_metadata_merger(\n",
    "            da_info_ndrcollection, \n",
    "            size=ndrcollection_size, \n",
    "            obj_type=_ObjTypes.NDCOLLETION_TYPE,\n",
    "            obj_kwargs=ndrcollection_kwargs,\n",
    "            utc_timestamp=now,\n",
    "            extra_metadata=metadata or {})\n",
    "    \n",
    "    with _get_buffer(path_or_stream, \"wb\") as fp:\n",
    "        da_info_ndrcollection.to_netcdf(fp, format=\"NETCDF4\", group=None, **kwargs)\n",
    "        \n",
    "        for idx, ndresult in enumerate(ndrcollection):\n",
    "            \n",
    "            # convert the ndresult to dict and extract the xarray\n",
    "            ndresult_kwargs = ndresult.to_dict()\n",
    "            nddata = ndresult_kwargs.pop(\"nddata\")\n",
    "            group = f\"__ndrc[{idx}]__\"\n",
    "            \n",
    "            nddata = _darray_metadata_merger(\n",
    "                nddata,\n",
    "                size=None,\n",
    "                obj_type=_ObjTypes.NDRESULT_TYPE,\n",
    "                obj_kwargs=ndresult_kwargs,\n",
    "                utc_timestamp=now,\n",
    "                extra_metadata={},\n",
    "            )\n",
    "            \n",
    "            print(engine, group)\n",
    "\n",
    "            nddata.to_netcdf(fp, format=\"NETCDF4\", group=group, **kwargs)\n",
    "            \n",
    "            \n",
    "    \n",
    "\n",
    "\n",
    "\n",
    "\n",
    "to_ndc(\"coso.ndc\", res)\n",
    "\n",
    "\n",
    "\n"
   ]
  },
  {
   "cell_type": "code",
   "execution_count": null,
   "id": "7a45b355",
   "metadata": {},
   "outputs": [],
   "source": []
  }
 ],
 "metadata": {
  "kernelspec": {
   "display_name": "Python 3 (ipykernel)",
   "language": "python",
   "name": "python3"
  },
  "language_info": {
   "codemirror_mode": {
    "name": "ipython",
    "version": 3
   },
   "file_extension": ".py",
   "mimetype": "text/x-python",
   "name": "python",
   "nbconvert_exporter": "python",
   "pygments_lexer": "ipython3",
   "version": "3.10.12"
  }
 },
 "nbformat": 4,
 "nbformat_minor": 5
}
