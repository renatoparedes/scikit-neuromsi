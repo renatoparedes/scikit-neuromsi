{
 "cells": [
  {
   "cell_type": "code",
   "execution_count": 1,
   "id": "7d9a2a2c-d2b8-4091-9611-3466fb8f5390",
   "metadata": {},
   "outputs": [
    {
     "data": {
      "application/json": {
       "ascii": false,
       "bar_format": null,
       "colour": null,
       "elapsed": 0.01193857192993164,
       "initial": 0,
       "n": 0,
       "ncols": null,
       "nrows": null,
       "postfix": null,
       "prefix": "Sweeping 'auditory_position'",
       "rate": null,
       "total": 10,
       "unit": "it",
       "unit_divisor": 1000,
       "unit_scale": false
      },
      "application/vnd.jupyter.widget-view+json": {
       "model_id": "9c509d537a174cc3bbfa0d8acf0149a8",
       "version_major": 2,
       "version_minor": 0
      },
      "text/plain": [
       "Sweeping 'auditory_position':   0%|          | 0/10 [00:00<?, ?it/s]"
      ]
     },
     "metadata": {},
     "output_type": "display_data"
    },
    {
     "name": "stdout",
     "output_type": "stream",
     "text": [
      "8339 13409 ___init___\n"
     ]
    },
    {
     "data": {
      "application/json": {
       "ascii": false,
       "bar_format": null,
       "colour": null,
       "elapsed": 0.016909360885620117,
       "initial": 0,
       "n": 0,
       "ncols": null,
       "nrows": null,
       "postfix": null,
       "prefix": "Collecting metadata",
       "rate": null,
       "total": 10,
       "unit": "it",
       "unit_divisor": 1000,
       "unit_scale": false
      },
      "application/vnd.jupyter.widget-view+json": {
       "model_id": "5cbaa8aedb4a40b29b0e1f07edee8ca8",
       "version_major": 2,
       "version_minor": 0
      },
      "text/plain": [
       "Collecting metadata:   0%|          | 0/10 [00:00<?, ?it/s]"
      ]
     },
     "metadata": {},
     "output_type": "display_data"
    }
   ],
   "source": [
    "from skneuromsi import core\n",
    "from skneuromsi.neural import Cuppini2017\n",
    "from skneuromsi.cmp import ParameterSweep\n",
    "\n",
    "\n",
    "import numpy as np\n",
    "from skneuromsi import io\n",
    "\n",
    "from tqdm.notebook import tqdm\n",
    "\n",
    "import joblib\n",
    "\n",
    "import xarray as xa\n",
    "\n",
    "import sys\n",
    "\n",
    "\n",
    "# sg = storages.DirectoryStorage(10, \".\")\n",
    "# sg[0] = \"hola\"\n",
    "# import ipdb; ipdb.set_trace()\n",
    "\n",
    "tqdm.pandas()\n",
    "\n",
    "model = Cuppini2017()\n",
    "\n",
    "rep = ParameterSweep(\n",
    "    model,\n",
    "    repeat=1,\n",
    "    n_jobs=-1,\n",
    "    target=\"auditory_position\",\n",
    "    seed=41,\n",
    "    range=50 + np.arange(2, 22, 2),\n",
    "    storage=\"memory\"\n",
    ")\n",
    "\n",
    "res = rep.run(noise=True, visual_position=50)"
   ]
  },
  {
   "cell_type": "code",
   "execution_count": 2,
   "id": "9ea61578",
   "metadata": {},
   "outputs": [],
   "source": [
    "res.to_ndc(\"coso_bz2.ndc\")"
   ]
  },
  {
   "cell_type": "markdown",
   "id": "72f0c8b5",
   "metadata": {},
   "source": []
  },
  {
   "cell_type": "code",
   "execution_count": null,
   "id": "7a45b355",
   "metadata": {},
   "outputs": [],
   "source": [
    "res.to_r"
   ]
  }
 ],
 "metadata": {
  "kernelspec": {
   "display_name": "Python 3 (ipykernel)",
   "language": "python",
   "name": "python3"
  },
  "language_info": {
   "codemirror_mode": {
    "name": "ipython",
    "version": 3
   },
   "file_extension": ".py",
   "mimetype": "text/x-python",
   "name": "python",
   "nbconvert_exporter": "python",
   "pygments_lexer": "ipython3",
   "version": "3.10.12"
  }
 },
 "nbformat": 4,
 "nbformat_minor": 5
}
