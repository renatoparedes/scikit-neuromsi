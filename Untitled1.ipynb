{
 "cells": [
  {
   "cell_type": "code",
   "execution_count": 1,
   "id": "7d9a2a2c-d2b8-4091-9611-3466fb8f5390",
   "metadata": {},
   "outputs": [
    {
     "data": {
      "application/json": {
       "ascii": false,
       "bar_format": null,
       "colour": null,
       "elapsed": 0.02471446990966797,
       "initial": 0,
       "n": 0,
       "ncols": null,
       "nrows": null,
       "postfix": null,
       "prefix": "Sweeping 'auditory_position'",
       "rate": null,
       "total": 20,
       "unit": "it",
       "unit_divisor": 1000,
       "unit_scale": false
      },
      "application/vnd.jupyter.widget-view+json": {
       "model_id": "b39872fc399049528634da37267d26b1",
       "version_major": 2,
       "version_minor": 0
      },
      "text/plain": [
       "Sweeping 'auditory_position':   0%|          | 0/20 [00:00<?, ?it/s]"
      ]
     },
     "metadata": {},
     "output_type": "display_data"
    },
    {
     "data": {
      "application/json": {
       "ascii": false,
       "bar_format": null,
       "colour": null,
       "elapsed": 0.021078109741210938,
       "initial": 0,
       "n": 0,
       "ncols": null,
       "nrows": null,
       "postfix": null,
       "prefix": "Collecting metadata",
       "rate": null,
       "total": 20,
       "unit": "it",
       "unit_divisor": 1000,
       "unit_scale": false
      },
      "application/vnd.jupyter.widget-view+json": {
       "model_id": "54a4616f723c44c2a39c95de736e6d99",
       "version_major": 2,
       "version_minor": 0
      },
      "text/plain": [
       "Collecting metadata:   0%|          | 0/20 [00:00<?, ?it/s]"
      ]
     },
     "metadata": {},
     "output_type": "display_data"
    }
   ],
   "source": [
    "from skneuromsi.neural import Cuppini2017\n",
    "from skneuromsi.cmp import ParameterSweep, storages\n",
    "from skneuromsi.utils import Bunch\n",
    "import pandas as pd\n",
    "import numpy as np\n",
    "\n",
    "from tqdm.notebook import tqdm\n",
    "\n",
    "import joblib\n",
    "\n",
    "import xarray as xa\n",
    "\n",
    "import sys\n",
    "\n",
    "\n",
    "# sg = storages.DirectoryStorage(10, \".\")\n",
    "# sg[0] = \"hola\"\n",
    "# import ipdb; ipdb.set_trace()\n",
    "\n",
    "tqdm.pandas()\n",
    "\n",
    "model = Cuppini2017()\n",
    "\n",
    "rep = ParameterSweep(\n",
    "    model,\n",
    "    repeat=2,\n",
    "    n_jobs=-1,\n",
    "    target=\"auditory_position\",\n",
    "    seed=41,\n",
    ")\n",
    "\n",
    "res = rep.run(noise=True, visual_position=90)"
   ]
  },
  {
   "cell_type": "code",
   "execution_count": 59,
   "id": "f3d1e31a-8330-4768-924c-436390f14e5b",
   "metadata": {},
   "outputs": [
    {
     "data": {
      "text/plain": [
       "<NDResult 'Cuppini2017', modes=['auditory' 'visual' 'multi'], times=10000, positions=180, positions_coordinates=1, causes=True>"
      ]
     },
     "execution_count": 59,
     "metadata": {},
     "output_type": "execute_result"
    }
   ],
   "source": [
    "res[0]"
   ]
  },
  {
   "cell_type": "code",
   "execution_count": 81,
   "id": "1da6cc07",
   "metadata": {},
   "outputs": [],
   "source": [
    "cls = type(res)\n",
    "\n",
    "\n",
    "def bias(self, *, mode=None, changing_parameter=None):\n",
    "    mode = self.coerce_mode(mode)\n",
    "    changing_parameter = self.coerce_parameter(changing_parameter)\n",
    "    dim = \"times\"\n",
    "    for res in self._ndresults:\n",
    "        modes_values = res.get_modes(mode)\n",
    "        max_dim = modes_values.index.get_level_values(dim).max()\n",
    "        dim_activity = modes_values.xs(max_dim, level=dim).values.T[0]\n",
    "\n",
    "        bias = np.absolute(estimated_a_pos - a_pos) / np.absolute(\n",
    "            a_pIos - v_pos\n",
    "        )\n",
    "        biases.append(bias)\n",
    "\n",
    "\n",
    "cls.bias = bias\n",
    "\n",
    "# res.bias()\n",
    "self = res"
   ]
  },
  {
   "cell_type": "code",
   "execution_count": 96,
   "id": "92f97b74",
   "metadata": {},
   "outputs": [],
   "source": [
    "mode = \"auditory\"\n",
    "dim = \"times\"\n",
    "changing_parameter = \"auditory_position\"\n",
    "\n",
    "res = self[0]\n",
    "# forllop\n",
    "ref_value = res.run_params[changing_parameter]\n",
    "\n",
    "modes_values = res.get_modes(mode)\n",
    "\n",
    "max_dim_index = modes_values.index.get_level_values(dim).max()\n",
    "max_dim_values = modes_values.xs(max_dim_index, level=dim).values.T[0]\n",
    "\n",
    "bias = np.abs(ref_value - max_dim_values.argmax())"
   ]
  },
  {
   "cell_type": "code",
   "execution_count": 97,
   "id": "a8020f79",
   "metadata": {},
   "outputs": [
    {
     "data": {
      "text/plain": [
       "7"
      ]
     },
     "execution_count": 97,
     "metadata": {},
     "output_type": "execute_result"
    }
   ],
   "source": [
    "bias"
   ]
  },
  {
   "cell_type": "code",
   "execution_count": 66,
   "id": "cd566427",
   "metadata": {},
   "outputs": [
    {
     "data": {
      "text/plain": [
       "1799903"
      ]
     },
     "execution_count": 66,
     "metadata": {},
     "output_type": "execute_result"
    }
   ],
   "source": [
    "modes_values[\"auditory\"].argmax()"
   ]
  },
  {
   "cell_type": "code",
   "execution_count": 67,
   "id": "3faa5370",
   "metadata": {},
   "outputs": [
    {
     "data": {
      "text/plain": [
       "(9999, 83, 'x0')"
      ]
     },
     "execution_count": 67,
     "metadata": {},
     "output_type": "execute_result"
    }
   ],
   "source": [
    "modes_values.index[1799903]"
   ]
  },
  {
   "cell_type": "code",
   "execution_count": 68,
   "id": "0e26a338",
   "metadata": {},
   "outputs": [
    {
     "data": {
      "text/plain": [
       "modes\n",
       "auditory    0.992921\n",
       "Name: (9999, 83, x0), dtype: float64"
      ]
     },
     "execution_count": 68,
     "metadata": {},
     "output_type": "execute_result"
    }
   ],
   "source": [
    "modes_values.loc[(9999, 83, \"x0\")]"
   ]
  },
  {
   "cell_type": "code",
   "execution_count": 76,
   "id": "1f8bc8a7",
   "metadata": {},
   "outputs": [
    {
     "data": {
      "text/plain": [
       "90"
      ]
     },
     "execution_count": 76,
     "metadata": {},
     "output_type": "execute_result"
    }
   ],
   "source": [
    "coso.run_params[\"auditory_position\"]"
   ]
  },
  {
   "cell_type": "code",
   "execution_count": 71,
   "id": "b1a7087f",
   "metadata": {},
   "outputs": [
    {
     "data": {
      "text/plain": [
       "array([{'auditory_position': 90, 'visual_position': 90, 'auditory_sigma': 32, 'visual_sigma': 4, 'auditory_intensity': 28, 'visual_intensity': 27, 'noise': True},\n",
       "       {'auditory_position': 90, 'visual_position': 90, 'auditory_sigma': 32, 'visual_sigma': 4, 'auditory_intensity': 28, 'visual_intensity': 27, 'noise': True},\n",
       "       {'auditory_position': 92, 'visual_position': 90, 'auditory_sigma': 32, 'visual_sigma': 4, 'auditory_intensity': 28, 'visual_intensity': 27, 'noise': True},\n",
       "       {'auditory_position': 92, 'visual_position': 90, 'auditory_sigma': 32, 'visual_sigma': 4, 'auditory_intensity': 28, 'visual_intensity': 27, 'noise': True},\n",
       "       {'auditory_position': 94, 'visual_position': 90, 'auditory_sigma': 32, 'visual_sigma': 4, 'auditory_intensity': 28, 'visual_intensity': 27, 'noise': True},\n",
       "       {'auditory_position': 94, 'visual_position': 90, 'auditory_sigma': 32, 'visual_sigma': 4, 'auditory_intensity': 28, 'visual_intensity': 27, 'noise': True},\n",
       "       {'auditory_position': 96, 'visual_position': 90, 'auditory_sigma': 32, 'visual_sigma': 4, 'auditory_intensity': 28, 'visual_intensity': 27, 'noise': True},\n",
       "       {'auditory_position': 96, 'visual_position': 90, 'auditory_sigma': 32, 'visual_sigma': 4, 'auditory_intensity': 28, 'visual_intensity': 27, 'noise': True},\n",
       "       {'auditory_position': 98, 'visual_position': 90, 'auditory_sigma': 32, 'visual_sigma': 4, 'auditory_intensity': 28, 'visual_intensity': 27, 'noise': True},\n",
       "       {'auditory_position': 98, 'visual_position': 90, 'auditory_sigma': 32, 'visual_sigma': 4, 'auditory_intensity': 28, 'visual_intensity': 27, 'noise': True},\n",
       "       {'auditory_position': 100, 'visual_position': 90, 'auditory_sigma': 32, 'visual_sigma': 4, 'auditory_intensity': 28, 'visual_intensity': 27, 'noise': True},\n",
       "       {'auditory_position': 100, 'visual_position': 90, 'auditory_sigma': 32, 'visual_sigma': 4, 'auditory_intensity': 28, 'visual_intensity': 27, 'noise': True},\n",
       "       {'auditory_position': 102, 'visual_position': 90, 'auditory_sigma': 32, 'visual_sigma': 4, 'auditory_intensity': 28, 'visual_intensity': 27, 'noise': True},\n",
       "       {'auditory_position': 102, 'visual_position': 90, 'auditory_sigma': 32, 'visual_sigma': 4, 'auditory_intensity': 28, 'visual_intensity': 27, 'noise': True},\n",
       "       {'auditory_position': 104, 'visual_position': 90, 'auditory_sigma': 32, 'visual_sigma': 4, 'auditory_intensity': 28, 'visual_intensity': 27, 'noise': True},\n",
       "       {'auditory_position': 104, 'visual_position': 90, 'auditory_sigma': 32, 'visual_sigma': 4, 'auditory_intensity': 28, 'visual_intensity': 27, 'noise': True},\n",
       "       {'auditory_position': 106, 'visual_position': 90, 'auditory_sigma': 32, 'visual_sigma': 4, 'auditory_intensity': 28, 'visual_intensity': 27, 'noise': True},\n",
       "       {'auditory_position': 106, 'visual_position': 90, 'auditory_sigma': 32, 'visual_sigma': 4, 'auditory_intensity': 28, 'visual_intensity': 27, 'noise': True},\n",
       "       {'auditory_position': 108, 'visual_position': 90, 'auditory_sigma': 32, 'visual_sigma': 4, 'auditory_intensity': 28, 'visual_intensity': 27, 'noise': True},\n",
       "       {'auditory_position': 108, 'visual_position': 90, 'auditory_sigma': 32, 'visual_sigma': 4, 'auditory_intensity': 28, 'visual_intensity': 27, 'noise': True}],\n",
       "      dtype=object)"
      ]
     },
     "execution_count": 71,
     "metadata": {},
     "output_type": "execute_result"
    }
   ],
   "source": [
    "res._metadata_cache.run_parameters_values"
   ]
  }
 ],
 "metadata": {
  "kernelspec": {
   "display_name": "Python 3 (ipykernel)",
   "language": "python",
   "name": "python3"
  },
  "language_info": {
   "codemirror_mode": {
    "name": "ipython",
    "version": 3
   },
   "file_extension": ".py",
   "mimetype": "text/x-python",
   "name": "python",
   "nbconvert_exporter": "python",
   "pygments_lexer": "ipython3",
   "version": "3.10.6"
  }
 },
 "nbformat": 4,
 "nbformat_minor": 5
}
