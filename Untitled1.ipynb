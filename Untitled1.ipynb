{
 "cells": [
  {
   "cell_type": "code",
   "execution_count": 1,
   "id": "7d9a2a2c-d2b8-4091-9611-3466fb8f5390",
   "metadata": {},
   "outputs": [
    {
     "data": {
      "application/json": {
       "ascii": false,
       "bar_format": null,
       "colour": null,
       "elapsed": 0.014655828475952148,
       "initial": 0,
       "n": 0,
       "ncols": null,
       "nrows": null,
       "postfix": null,
       "prefix": "Sweeping 'auditory_position'",
       "rate": null,
       "total": 20,
       "unit": "it",
       "unit_divisor": 1000,
       "unit_scale": false
      },
      "application/vnd.jupyter.widget-view+json": {
       "model_id": "45afbc2606f14a7291ee0c97168753f1",
       "version_major": 2,
       "version_minor": 0
      },
      "text/plain": [
       "Sweeping 'auditory_position':   0%|          | 0/20 [00:00<?, ?it/s]"
      ]
     },
     "metadata": {},
     "output_type": "display_data"
    },
    {
     "data": {
      "application/json": {
       "ascii": false,
       "bar_format": null,
       "colour": null,
       "elapsed": 0.014388799667358398,
       "initial": 0,
       "n": 0,
       "ncols": null,
       "nrows": null,
       "postfix": null,
       "prefix": "Collecting metadata",
       "rate": null,
       "total": 20,
       "unit": "it",
       "unit_divisor": 1000,
       "unit_scale": false
      },
      "application/vnd.jupyter.widget-view+json": {
       "model_id": "567c4a55005b446fbf6ca7a266982961",
       "version_major": 2,
       "version_minor": 0
      },
      "text/plain": [
       "Collecting metadata:   0%|          | 0/20 [00:00<?, ?it/s]"
      ]
     },
     "metadata": {},
     "output_type": "display_data"
    }
   ],
   "source": [
    "from skneuromsi.neural import Cuppini2017\n",
    "from skneuromsi.cmp import ParameterSweep, storages\n",
    "from skneuromsi.utils import Bunch\n",
    "import pandas as pd\n",
    "import numpy as np\n",
    "\n",
    "from tqdm.notebook import tqdm\n",
    "\n",
    "import joblib\n",
    "\n",
    "import xarray as xa\n",
    "\n",
    "import sys\n",
    "\n",
    "\n",
    "# sg = storages.DirectoryStorage(10, \".\")\n",
    "# sg[0] = \"hola\"\n",
    "# import ipdb; ipdb.set_trace()\n",
    "\n",
    "tqdm.pandas()\n",
    "\n",
    "model = Cuppini2017()\n",
    "\n",
    "rep = ParameterSweep(\n",
    "    model,\n",
    "    repeat=2,\n",
    "    n_jobs=-1,\n",
    "    target=\"auditory_position\",\n",
    "    seed=41,\n",
    "    range=50 + np.arange(2, 22, 2),\n",
    ")\n",
    "\n",
    "res = rep.run(noise=True, visual_position=50)"
   ]
  },
  {
   "cell_type": "code",
   "execution_count": 3,
   "id": "6385c5c1",
   "metadata": {},
   "outputs": [
    {
     "data": {
      "text/plain": [
       "skneuromsi.cmp.ndcollection.NDResultCollectionPlotter"
      ]
     },
     "execution_count": 3,
     "metadata": {},
     "output_type": "execute_result"
    }
   ],
   "source": [
    "type(res.plot)"
   ]
  },
  {
   "cell_type": "code",
   "execution_count": 6,
   "id": "79cc2177",
   "metadata": {},
   "outputs": [
    {
     "data": {
      "text/plain": [
       "<AxesSubplot:xlabel='Disparity', ylabel='Bias'>"
      ]
     },
     "execution_count": 6,
     "metadata": {},
     "output_type": "execute_result"
    },
    {
     "data": {
      "image/png": "[encoded data removed]",
      "text/plain": [
       "<Figure size 432x288 with 1 Axes>"
      ]
     },
     "metadata": {
      "needs_background": "light"
     },
     "output_type": "display_data"
    }
   ],
   "source": [
    "import seaborn as sns\n",
    "\n",
    "def bias(\n",
    "        self,\n",
    "        influence_parameter,\n",
    "        *,\n",
    "        changing_parameter=None,\n",
    "        dim=None,\n",
    "        mode=None,\n",
    "        show_progress=True,\n",
    "        ax=None,\n",
    "        **kws,\n",
    "    ):\n",
    "        the_bias = self._nd_collection.bias(\n",
    "            influence_parameter=influence_parameter,\n",
    "            changing_parameter=changing_parameter,\n",
    "            dim=dim,\n",
    "            mode=mode,\n",
    "            show_progress=show_progress,\n",
    "        )\n",
    "\n",
    "        legend = kws.get(\"legend\", True)\n",
    "        \n",
    "        kws.setdefault(\"estimator\", \"mean\")\n",
    "\n",
    "        changing_parameter, influence_parameter, _ = the_bias.columns[0]\n",
    "        estimator = kws[\"estimator\"].title()\n",
    "\n",
    "        kws.setdefault(\n",
    "            \"label\", f\"{estimator} {changing_parameter}({influence_parameter})\"\n",
    "        )\n",
    "\n",
    "        ax = sns.lineplot(data=the_bias, ax=ax, legend=False, **kws)\n",
    "\n",
    "        if legend:\n",
    "            ax.legend()\n",
    "        ax.set_ylabel(\"Bias\")\n",
    "\n",
    "        return ax\n",
    "\n",
    "\n",
    "type(res.plot).bias = bias\n",
    "\n",
    "res.plot.bias(influence_parameter=\"visual_position\", show_progress=False)\n",
    "\n"
   ]
  },
  {
   "cell_type": "code",
   "execution_count": 5,
   "id": "7e0d6b88",
   "metadata": {},
   "outputs": [
    {
     "data": {
      "application/json": {
       "ascii": false,
       "bar_format": null,
       "colour": null,
       "elapsed": 0.01210641860961914,
       "initial": 0,
       "n": 0,
       "ncols": null,
       "nrows": null,
       "postfix": null,
       "prefix": "Calculating biases",
       "rate": null,
       "total": 20,
       "unit": "it",
       "unit_divisor": 1000,
       "unit_scale": false
      },
      "application/vnd.jupyter.widget-view+json": {
       "model_id": "63f282695d144d408dd2f9f5c0d982e2",
       "version_major": 2,
       "version_minor": 0
      },
      "text/plain": [
       "Calculating biases:   0%|          | 0/20 [00:00<?, ?it/s]"
      ]
     },
     "metadata": {},
     "output_type": "display_data"
    }
   ],
   "source": [
    "bias = res.bias(\"visual_position\")"
   ]
  },
  {
   "cell_type": "code",
   "execution_count": 13,
   "id": "40e0edbe",
   "metadata": {},
   "outputs": [
    {
     "data": {
      "text/plain": [
       "Text(0, 0.5, 'Mean Bias')"
      ]
     },
     "execution_count": 13,
     "metadata": {},
     "output_type": "execute_result"
    },
    {
     "data": {
      "image/png": "[encoded data removed]",
      "text/plain": [
       "<Figure size 432x288 with 1 Axes>"
      ]
     },
     "metadata": {
      "needs_background": "light"
     },
     "output_type": "display_data"
    }
   ],
   "source": [
    "import seaborn as sns\n",
    "import matplotlib.pyplot as plt\n",
    "\n",
    "#changing_parameter, influence_parameter, bias = mbias.columns[0]\n",
    "\n",
    "\n",
    "ax = sns.lineplot(data=bias, estimator=\"mean\")\n",
    "\n",
    "ax.legend()\n",
    "ax.set_ylabel(\"Mean Bias\")"
   ]
  },
  {
   "cell_type": "code",
   "execution_count": 10,
   "id": "c54c2a57",
   "metadata": {},
   "outputs": [
    {
     "name": "stdout",
     "output_type": "stream",
     "text": [
      "\u001b[0;31mSignature:\u001b[0m\n",
      "\u001b[0msns\u001b[0m\u001b[0;34m.\u001b[0m\u001b[0mlineplot\u001b[0m\u001b[0;34m(\u001b[0m\u001b[0;34m\u001b[0m\n",
      "\u001b[0;34m\u001b[0m    \u001b[0;34m*\u001b[0m\u001b[0;34m,\u001b[0m\u001b[0;34m\u001b[0m\n",
      "\u001b[0;34m\u001b[0m    \u001b[0mx\u001b[0m\u001b[0;34m=\u001b[0m\u001b[0;32mNone\u001b[0m\u001b[0;34m,\u001b[0m\u001b[0;34m\u001b[0m\n",
      "\u001b[0;34m\u001b[0m    \u001b[0my\u001b[0m\u001b[0;34m=\u001b[0m\u001b[0;32mNone\u001b[0m\u001b[0;34m,\u001b[0m\u001b[0;34m\u001b[0m\n",
      "\u001b[0;34m\u001b[0m    \u001b[0mhue\u001b[0m\u001b[0;34m=\u001b[0m\u001b[0;32mNone\u001b[0m\u001b[0;34m,\u001b[0m\u001b[0;34m\u001b[0m\n",
      "\u001b[0;34m\u001b[0m    \u001b[0msize\u001b[0m\u001b[0;34m=\u001b[0m\u001b[0;32mNone\u001b[0m\u001b[0;34m,\u001b[0m\u001b[0;34m\u001b[0m\n",
      "\u001b[0;34m\u001b[0m    \u001b[0mstyle\u001b[0m\u001b[0;34m=\u001b[0m\u001b[0;32mNone\u001b[0m\u001b[0;34m,\u001b[0m\u001b[0;34m\u001b[0m\n",
      "\u001b[0;34m\u001b[0m    \u001b[0mdata\u001b[0m\u001b[0;34m=\u001b[0m\u001b[0;32mNone\u001b[0m\u001b[0;34m,\u001b[0m\u001b[0;34m\u001b[0m\n",
      "\u001b[0;34m\u001b[0m    \u001b[0mpalette\u001b[0m\u001b[0;34m=\u001b[0m\u001b[0;32mNone\u001b[0m\u001b[0;34m,\u001b[0m\u001b[0;34m\u001b[0m\n",
      "\u001b[0;34m\u001b[0m    \u001b[0mhue_order\u001b[0m\u001b[0;34m=\u001b[0m\u001b[0;32mNone\u001b[0m\u001b[0;34m,\u001b[0m\u001b[0;34m\u001b[0m\n",
      "\u001b[0;34m\u001b[0m    \u001b[0mhue_norm\u001b[0m\u001b[0;34m=\u001b[0m\u001b[0;32mNone\u001b[0m\u001b[0;34m,\u001b[0m\u001b[0;34m\u001b[0m\n",
      "\u001b[0;34m\u001b[0m    \u001b[0msizes\u001b[0m\u001b[0;34m=\u001b[0m\u001b[0;32mNone\u001b[0m\u001b[0;34m,\u001b[0m\u001b[0;34m\u001b[0m\n",
      "\u001b[0;34m\u001b[0m    \u001b[0msize_order\u001b[0m\u001b[0;34m=\u001b[0m\u001b[0;32mNone\u001b[0m\u001b[0;34m,\u001b[0m\u001b[0;34m\u001b[0m\n",
      "\u001b[0;34m\u001b[0m    \u001b[0msize_norm\u001b[0m\u001b[0;34m=\u001b[0m\u001b[0;32mNone\u001b[0m\u001b[0;34m,\u001b[0m\u001b[0;34m\u001b[0m\n",
      "\u001b[0;34m\u001b[0m    \u001b[0mdashes\u001b[0m\u001b[0;34m=\u001b[0m\u001b[0;32mTrue\u001b[0m\u001b[0;34m,\u001b[0m\u001b[0;34m\u001b[0m\n",
      "\u001b[0;34m\u001b[0m    \u001b[0mmarkers\u001b[0m\u001b[0;34m=\u001b[0m\u001b[0;32mNone\u001b[0m\u001b[0;34m,\u001b[0m\u001b[0;34m\u001b[0m\n",
      "\u001b[0;34m\u001b[0m    \u001b[0mstyle_order\u001b[0m\u001b[0;34m=\u001b[0m\u001b[0;32mNone\u001b[0m\u001b[0;34m,\u001b[0m\u001b[0;34m\u001b[0m\n",
      "\u001b[0;34m\u001b[0m    \u001b[0munits\u001b[0m\u001b[0;34m=\u001b[0m\u001b[0;32mNone\u001b[0m\u001b[0;34m,\u001b[0m\u001b[0;34m\u001b[0m\n",
      "\u001b[0;34m\u001b[0m    \u001b[0mestimator\u001b[0m\u001b[0;34m=\u001b[0m\u001b[0;34m'mean'\u001b[0m\u001b[0;34m,\u001b[0m\u001b[0;34m\u001b[0m\n",
      "\u001b[0;34m\u001b[0m    \u001b[0mci\u001b[0m\u001b[0;34m=\u001b[0m\u001b[0;36m95\u001b[0m\u001b[0;34m,\u001b[0m\u001b[0;34m\u001b[0m\n",
      "\u001b[0;34m\u001b[0m    \u001b[0mn_boot\u001b[0m\u001b[0;34m=\u001b[0m\u001b[0;36m1000\u001b[0m\u001b[0;34m,\u001b[0m\u001b[0;34m\u001b[0m\n",
      "\u001b[0;34m\u001b[0m    \u001b[0mseed\u001b[0m\u001b[0;34m=\u001b[0m\u001b[0;32mNone\u001b[0m\u001b[0;34m,\u001b[0m\u001b[0;34m\u001b[0m\n",
      "\u001b[0;34m\u001b[0m    \u001b[0msort\u001b[0m\u001b[0;34m=\u001b[0m\u001b[0;32mTrue\u001b[0m\u001b[0;34m,\u001b[0m\u001b[0;34m\u001b[0m\n",
      "\u001b[0;34m\u001b[0m    \u001b[0merr_style\u001b[0m\u001b[0;34m=\u001b[0m\u001b[0;34m'band'\u001b[0m\u001b[0;34m,\u001b[0m\u001b[0;34m\u001b[0m\n",
      "\u001b[0;34m\u001b[0m    \u001b[0merr_kws\u001b[0m\u001b[0;34m=\u001b[0m\u001b[0;32mNone\u001b[0m\u001b[0;34m,\u001b[0m\u001b[0;34m\u001b[0m\n",
      "\u001b[0;34m\u001b[0m    \u001b[0mlegend\u001b[0m\u001b[0;34m=\u001b[0m\u001b[0;34m'auto'\u001b[0m\u001b[0;34m,\u001b[0m\u001b[0;34m\u001b[0m\n",
      "\u001b[0;34m\u001b[0m    \u001b[0max\u001b[0m\u001b[0;34m=\u001b[0m\u001b[0;32mNone\u001b[0m\u001b[0;34m,\u001b[0m\u001b[0;34m\u001b[0m\n",
      "\u001b[0;34m\u001b[0m    \u001b[0;34m**\u001b[0m\u001b[0mkwargs\u001b[0m\u001b[0;34m,\u001b[0m\u001b[0;34m\u001b[0m\n",
      "\u001b[0;34m\u001b[0m\u001b[0;34m)\u001b[0m\u001b[0;34m\u001b[0m\u001b[0;34m\u001b[0m\u001b[0m\n",
      "\u001b[0;31mDocstring:\u001b[0m\n",
      "Draw a line plot with possibility of several semantic groupings.\n",
      "\n",
      "The relationship between ``x`` and ``y`` can be shown for different subsets\n",
      "of the data using the ``hue``, ``size``, and ``style`` parameters. These\n",
      "parameters control what visual semantics are used to identify the different\n",
      "subsets. It is possible to show up to three dimensions independently by\n",
      "using all three semantic types, but this style of plot can be hard to\n",
      "interpret and is often ineffective. Using redundant semantics (i.e. both\n",
      "``hue`` and ``style`` for the same variable) can be helpful for making\n",
      "graphics more accessible.\n",
      "\n",
      "See the :ref:`tutorial <relational_tutorial>` for more information.\n",
      "\n",
      "The default treatment of the ``hue`` (and to a lesser extent, ``size``)\n",
      "semantic, if present, depends on whether the variable is inferred to\n",
      "represent \"numeric\" or \"categorical\" data. In particular, numeric variables\n",
      "are represented with a sequential colormap by default, and the legend\n",
      "entries show regular \"ticks\" with values that may or may not exist in the\n",
      "data. This behavior can be controlled through various parameters, as\n",
      "described and illustrated below.\n",
      "\n",
      "By default, the plot aggregates over multiple ``y`` values at each value of\n",
      "``x`` and shows an estimate of the central tendency and a confidence\n",
      "interval for that estimate.\n",
      "\n",
      "Parameters\n",
      "----------\n",
      "x, y : vectors or keys in ``data``\n",
      "    Variables that specify positions on the x and y axes.\n",
      "hue : vector or key in ``data``\n",
      "    Grouping variable that will produce lines with different colors.\n",
      "    Can be either categorical or numeric, although color mapping will\n",
      "    behave differently in latter case.\n",
      "size : vector or key in ``data``\n",
      "    Grouping variable that will produce lines with different widths.\n",
      "    Can be either categorical or numeric, although size mapping will\n",
      "    behave differently in latter case.\n",
      "style : vector or key in ``data``\n",
      "    Grouping variable that will produce lines with different dashes\n",
      "    and/or markers. Can have a numeric dtype but will always be treated\n",
      "    as categorical.\n",
      "data : :class:`pandas.DataFrame`, :class:`numpy.ndarray`, mapping, or sequence\n",
      "    Input data structure. Either a long-form collection of vectors that can be\n",
      "    assigned to named variables or a wide-form dataset that will be internally\n",
      "    reshaped.\n",
      "palette : string, list, dict, or :class:`matplotlib.colors.Colormap`\n",
      "    Method for choosing the colors to use when mapping the ``hue`` semantic.\n",
      "    String values are passed to :func:`color_palette`. List or dict values\n",
      "    imply categorical mapping, while a colormap object implies numeric mapping.\n",
      "hue_order : vector of strings\n",
      "    Specify the order of processing and plotting for categorical levels of the\n",
      "    ``hue`` semantic.\n",
      "hue_norm : tuple or :class:`matplotlib.colors.Normalize`\n",
      "    Either a pair of values that set the normalization range in data units\n",
      "    or an object that will map from data units into a [0, 1] interval. Usage\n",
      "    implies numeric mapping.\n",
      "sizes : list, dict, or tuple\n",
      "    An object that determines how sizes are chosen when ``size`` is used.\n",
      "    It can always be a list of size values or a dict mapping levels of the\n",
      "    ``size`` variable to sizes. When ``size``  is numeric, it can also be\n",
      "    a tuple specifying the minimum and maximum size to use such that other\n",
      "    values are normalized within this range.\n",
      "size_order : list\n",
      "    Specified order for appearance of the ``size`` variable levels,\n",
      "    otherwise they are determined from the data. Not relevant when the\n",
      "    ``size`` variable is numeric.\n",
      "size_norm : tuple or Normalize object\n",
      "    Normalization in data units for scaling plot objects when the\n",
      "    ``size`` variable is numeric.\n",
      "dashes : boolean, list, or dictionary\n",
      "    Object determining how to draw the lines for different levels of the\n",
      "    ``style`` variable. Setting to ``True`` will use default dash codes, or\n",
      "    you can pass a list of dash codes or a dictionary mapping levels of the\n",
      "    ``style`` variable to dash codes. Setting to ``False`` will use solid\n",
      "    lines for all subsets. Dashes are specified as in matplotlib: a tuple\n",
      "    of ``(segment, gap)`` lengths, or an empty string to draw a solid line.\n",
      "markers : boolean, list, or dictionary\n",
      "    Object determining how to draw the markers for different levels of the\n",
      "    ``style`` variable. Setting to ``True`` will use default markers, or\n",
      "    you can pass a list of markers or a dictionary mapping levels of the\n",
      "    ``style`` variable to markers. Setting to ``False`` will draw\n",
      "    marker-less lines.  Markers are specified as in matplotlib.\n",
      "style_order : list\n",
      "    Specified order for appearance of the ``style`` variable levels\n",
      "    otherwise they are determined from the data. Not relevant when the\n",
      "    ``style`` variable is numeric.\n",
      "units : vector or key in ``data``\n",
      "    Grouping variable identifying sampling units. When used, a separate\n",
      "    line will be drawn for each unit with appropriate semantics, but no\n",
      "    legend entry will be added. Useful for showing distribution of\n",
      "    experimental replicates when exact identities are not needed.\n",
      "estimator : name of pandas method or callable or None\n",
      "    Method for aggregating across multiple observations of the ``y``\n",
      "    variable at the same ``x`` level. If ``None``, all observations will\n",
      "    be drawn.\n",
      "ci : int or \"sd\" or None\n",
      "    Size of the confidence interval to draw when aggregating with an\n",
      "    estimator. \"sd\" means to draw the standard deviation of the data.\n",
      "    Setting to ``None`` will skip bootstrapping.\n",
      "n_boot : int\n",
      "    Number of bootstraps to use for computing the confidence interval.\n",
      "seed : int, numpy.random.Generator, or numpy.random.RandomState\n",
      "    Seed or random number generator for reproducible bootstrapping.\n",
      "sort : boolean\n",
      "    If True, the data will be sorted by the x and y variables, otherwise\n",
      "    lines will connect points in the order they appear in the dataset.\n",
      "err_style : \"band\" or \"bars\"\n",
      "    Whether to draw the confidence intervals with translucent error bands\n",
      "    or discrete error bars.\n",
      "err_kws : dict of keyword arguments\n",
      "    Additional paramters to control the aesthetics of the error bars. The\n",
      "    kwargs are passed either to :meth:`matplotlib.axes.Axes.fill_between`\n",
      "    or :meth:`matplotlib.axes.Axes.errorbar`, depending on ``err_style``.\n",
      "legend : \"auto\", \"brief\", \"full\", or False\n",
      "    How to draw the legend. If \"brief\", numeric ``hue`` and ``size``\n",
      "    variables will be represented with a sample of evenly spaced values.\n",
      "    If \"full\", every group will get an entry in the legend. If \"auto\",\n",
      "    choose between brief or full representation based on number of levels.\n",
      "    If ``False``, no legend data is added and no legend is drawn.\n",
      "ax : :class:`matplotlib.axes.Axes`\n",
      "    Pre-existing axes for the plot. Otherwise, call :func:`matplotlib.pyplot.gca`\n",
      "    internally.\n",
      "kwargs : key, value mappings\n",
      "    Other keyword arguments are passed down to\n",
      "    :meth:`matplotlib.axes.Axes.plot`.\n",
      "\n",
      "Returns\n",
      "-------\n",
      ":class:`matplotlib.axes.Axes`\n",
      "    The matplotlib axes containing the plot.\n",
      "\n",
      "See Also\n",
      "--------\n",
      "scatterplot : Plot data using points.\n",
      "pointplot : Plot point estimates and CIs using markers and lines.\n",
      "\n",
      "Examples\n",
      "--------\n",
      "\n",
      ".. include:: ../docstrings/lineplot.rst\n",
      "\u001b[0;31mFile:\u001b[0m      ~/proyectos/skneuromsi/lib/python3.10/site-packages/seaborn/relational.py\n",
      "\u001b[0;31mType:\u001b[0m      function\n"
     ]
    }
   ],
   "source": [
    "sns.lineplot?"
   ]
  }
 ],
 "metadata": {
  "kernelspec": {
   "display_name": "Python 3 (ipykernel)",
   "language": "python",
   "name": "python3"
  },
  "language_info": {
   "codemirror_mode": {
    "name": "ipython",
    "version": 3
   },
   "file_extension": ".py",
   "mimetype": "text/x-python",
   "name": "python",
   "nbconvert_exporter": "python",
   "pygments_lexer": "ipython3",
   "version": "3.10.12"
  }
 },
 "nbformat": 4,
 "nbformat_minor": 5
}
