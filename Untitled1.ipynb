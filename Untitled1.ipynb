{
 "cells": [
  {
   "cell_type": "code",
   "execution_count": 2,
   "id": "1eb50cb0",
   "metadata": {},
   "outputs": [],
   "source": [
    "from skneuromsi import io"
   ]
  },
  {
   "cell_type": "code",
   "execution_count": 3,
   "id": "7d9a2a2c-d2b8-4091-9611-3466fb8f5390",
   "metadata": {},
   "outputs": [
    {
     "data": {
      "application/json": {
       "ascii": false,
       "bar_format": null,
       "colour": null,
       "elapsed": 0.011946916580200195,
       "initial": 0,
       "n": 0,
       "ncols": null,
       "nrows": null,
       "postfix": null,
       "prefix": "Sweeping 'auditory_position'",
       "rate": null,
       "total": 20,
       "unit": "it",
       "unit_divisor": 1000,
       "unit_scale": false
      },
      "application/vnd.jupyter.widget-view+json": {
       "model_id": "4b1ea172f8db4054aa192732e5a44814",
       "version_major": 2,
       "version_minor": 0
      },
      "text/plain": [
       "Sweeping 'auditory_position':   0%|          | 0/20 [00:00<?, ?it/s]"
      ]
     },
     "metadata": {},
     "output_type": "display_data"
    },
    {
     "data": {
      "application/json": {
       "ascii": false,
       "bar_format": null,
       "colour": null,
       "elapsed": 0.018440723419189453,
       "initial": 0,
       "n": 0,
       "ncols": null,
       "nrows": null,
       "postfix": null,
       "prefix": "Collecting metadata",
       "rate": null,
       "total": 20,
       "unit": "it",
       "unit_divisor": 1000,
       "unit_scale": false
      },
      "application/vnd.jupyter.widget-view+json": {
       "model_id": "9780905c1cfe40debb7d1682bb828c0a",
       "version_major": 2,
       "version_minor": 0
      },
      "text/plain": [
       "Collecting metadata:   0%|          | 0/20 [00:00<?, ?it/s]"
      ]
     },
     "metadata": {},
     "output_type": "display_data"
    }
   ],
   "source": [
    "from skneuromsi import core\n",
    "from skneuromsi.neural import Cuppini2017\n",
    "from skneuromsi.cmp import ParameterSweep, storages\n",
    "from skneuromsi.utils import Bunch\n",
    "import pandas as pd\n",
    "import numpy as np\n",
    "\n",
    "from tqdm.notebook import tqdm\n",
    "\n",
    "import joblib\n",
    "\n",
    "import xarray as xa\n",
    "\n",
    "import sys\n",
    "\n",
    "\n",
    "# sg = storages.DirectoryStorage(10, \".\")\n",
    "# sg[0] = \"hola\"\n",
    "# import ipdb; ipdb.set_trace()\n",
    "\n",
    "tqdm.pandas()\n",
    "\n",
    "model = Cuppini2017()\n",
    "\n",
    "rep = ParameterSweep(\n",
    "    model,\n",
    "    repeat=2,\n",
    "    n_jobs=-1,\n",
    "    target=\"auditory_position\",\n",
    "    seed=41,\n",
    "    range=50 + np.arange(2, 22, 2),\n",
    ")\n",
    "\n",
    "res = rep.run(noise=True, visual_position=50)"
   ]
  },
  {
   "cell_type": "code",
   "execution_count": 7,
   "id": "eed4eaf3",
   "metadata": {},
   "outputs": [],
   "source": [
    "def _kwargs_as_dict(ndresult):\n",
    "    return {\n",
    "        \"mname\": str(ndresult.mname),\n",
    "        \"mtype\": str(ndresult.mtype),\n",
    "        \"output_mode\": str(ndresult.output_mode),\n",
    "        \"nmap\": ndresult.nmap_,\n",
    "        \"time_range\": ndresult.time_range,\n",
    "        \"position_range\": ndresult.position_range,\n",
    "        \"time_res\": ndresult.time_res,\n",
    "        \"position_res\": ndresult.position_res,\n",
    "        \"causes\": ndresult.causes_,\n",
    "        \"run_params\": ndresult.run_params.to_dict(),\n",
    "        \"extra\": ndresult.extra_.to_dict(),\n",
    "    }\n",
    "    \n",
    "io.ndresult_to_dict = _kwargs_as_dict"
   ]
  },
  {
   "cell_type": "code",
   "execution_count": 8,
   "id": "a0641671",
   "metadata": {},
   "outputs": [],
   "source": [
    "coso = io.ndresult_to_dict(res[0])"
   ]
  },
  {
   "cell_type": "code",
   "execution_count": 14,
   "id": "d10a14ca",
   "metadata": {},
   "outputs": [
    {
     "name": "stdout",
     "output_type": "stream",
     "text": [
      "{\n",
      "  \"mname\": \"Cuppini2017\",\n",
      "  \"mtype\": \"Neural\",\n",
      "  \"output_mode\": \"multi\",\n",
      "  \"nmap\": {\n",
      "    \"auditory\": \"auditory\",\n",
      "    \"visual\": \"visual\"\n",
      "  },\n",
      "  \"time_range\": [\n",
      "    0.0,\n",
      "    100.0\n",
      "  ],\n",
      "  \"position_range\": [\n",
      "    0.0,\n",
      "    180.0\n",
      "  ],\n",
      "  \"time_res\": 0.01,\n",
      "  \"position_res\": 1.0,\n",
      "  \"causes\": 1,\n",
      "  \"run_params\": {\n",
      "    \"auditory_position\": 52,\n",
      "    \"visual_position\": 50,\n",
      "    \"auditory_sigma\": 32,\n",
      "    \"visual_sigma\": 4,\n",
      "    \"auditory_intensity\": 28,\n",
      "    \"visual_intensity\": 27,\n",
      "    \"noise\": true\n",
      "  },\n",
      "  \"extra\": {}\n",
      "}\n"
     ]
    }
   ],
   "source": [
    "import json\n",
    "print(json.dumps(coso, cls=io.NDResultJSONEncoder, indent=2))"
   ]
  },
  {
   "cell_type": "code",
   "execution_count": 6,
   "id": "9ea61578",
   "metadata": {},
   "outputs": [
    {
     "ename": "TypeError",
     "evalue": "Object of type int64 is not JSON serializable",
     "output_type": "error",
     "traceback": [
      "\u001b[0;31m---------------------------------------------------------------------------\u001b[0m",
      "\u001b[0;31mTypeError\u001b[0m                                 Traceback (most recent call last)",
      "\u001b[1;32m/home/juanbc/proyectos/skneuromsi/src/Untitled1.ipynb Celda 3\u001b[0m in \u001b[0;36m<cell line: 1>\u001b[0;34m()\u001b[0m\n\u001b[1;32m      <a href='vscode-notebook-cell:/home/juanbc/proyectos/skneuromsi/src/Untitled1.ipynb#W1sZmlsZQ%3D%3D?line=0'>1</a>\u001b[0m \u001b[39mwith\u001b[39;00m \u001b[39mopen\u001b[39m(\u001b[39m\"\u001b[39m\u001b[39mcoso.nc\u001b[39m\u001b[39m\"\u001b[39m, \u001b[39m\"\u001b[39m\u001b[39mwb\u001b[39m\u001b[39m\"\u001b[39m) \u001b[39mas\u001b[39;00m fp:\n\u001b[1;32m      <a href='vscode-notebook-cell:/home/juanbc/proyectos/skneuromsi/src/Untitled1.ipynb#W1sZmlsZQ%3D%3D?line=1'>2</a>\u001b[0m     \u001b[39mfor\u001b[39;00m r \u001b[39min\u001b[39;00m res:\n\u001b[0;32m----> <a href='vscode-notebook-cell:/home/juanbc/proyectos/skneuromsi/src/Untitled1.ipynb#W1sZmlsZQ%3D%3D?line=2'>3</a>\u001b[0m         io\u001b[39m.\u001b[39;49mndresult_to_netcdf(fp, r)\n\u001b[1;32m      <a href='vscode-notebook-cell:/home/juanbc/proyectos/skneuromsi/src/Untitled1.ipynb#W1sZmlsZQ%3D%3D?line=3'>4</a>\u001b[0m         \u001b[39mdel\u001b[39;00m r\n\u001b[1;32m      <a href='vscode-notebook-cell:/home/juanbc/proyectos/skneuromsi/src/Untitled1.ipynb#W1sZmlsZQ%3D%3D?line=4'>5</a>\u001b[0m         \u001b[39mbreak\u001b[39;00m\n",
      "File \u001b[0;32m~/proyectos/skneuromsi/src/skneuromsi/io.py:75\u001b[0m, in \u001b[0;36mndresult_to_netcdf\u001b[0;34m(path_or_stream, ndresult, metadata, **kwargs)\u001b[0m\n\u001b[1;32m     61\u001b[0m nc_metadata[_NDRESULT_KWARGS_KEY] \u001b[39m=\u001b[39m {\n\u001b[1;32m     62\u001b[0m     \u001b[39m\"\u001b[39m\u001b[39mmname\u001b[39m\u001b[39m\"\u001b[39m: ndresult\u001b[39m.\u001b[39mmname,\n\u001b[1;32m     63\u001b[0m     \u001b[39m\"\u001b[39m\u001b[39mmtype\u001b[39m\u001b[39m\"\u001b[39m: ndresult\u001b[39m.\u001b[39mmtype,\n\u001b[0;32m   (...)\u001b[0m\n\u001b[1;32m     72\u001b[0m     \u001b[39m\"\u001b[39m\u001b[39mextra\u001b[39m\u001b[39m\"\u001b[39m: ndresult\u001b[39m.\u001b[39mextra_\u001b[39m.\u001b[39mto_dict(),\n\u001b[1;32m     73\u001b[0m }\n\u001b[1;32m     74\u001b[0m nc_metadata\u001b[39m.\u001b[39mupdate(metadata \u001b[39mor\u001b[39;00m {})\n\u001b[0;32m---> 75\u001b[0m nc_metadata_json \u001b[39m=\u001b[39m json\u001b[39m.\u001b[39;49mdumps(nc_metadata)\n\u001b[1;32m     77\u001b[0m \u001b[39m# convert the data to xarray\u001b[39;00m\n\u001b[1;32m     78\u001b[0m nddata \u001b[39m=\u001b[39m ndresult\u001b[39m.\u001b[39mto_xarray()\n",
      "File \u001b[0;32m/usr/lib/python3.10/json/__init__.py:231\u001b[0m, in \u001b[0;36mdumps\u001b[0;34m(obj, skipkeys, ensure_ascii, check_circular, allow_nan, cls, indent, separators, default, sort_keys, **kw)\u001b[0m\n\u001b[1;32m    226\u001b[0m \u001b[39m# cached encoder\u001b[39;00m\n\u001b[1;32m    227\u001b[0m \u001b[39mif\u001b[39;00m (\u001b[39mnot\u001b[39;00m skipkeys \u001b[39mand\u001b[39;00m ensure_ascii \u001b[39mand\u001b[39;00m\n\u001b[1;32m    228\u001b[0m     check_circular \u001b[39mand\u001b[39;00m allow_nan \u001b[39mand\u001b[39;00m\n\u001b[1;32m    229\u001b[0m     \u001b[39mcls\u001b[39m \u001b[39mis\u001b[39;00m \u001b[39mNone\u001b[39;00m \u001b[39mand\u001b[39;00m indent \u001b[39mis\u001b[39;00m \u001b[39mNone\u001b[39;00m \u001b[39mand\u001b[39;00m separators \u001b[39mis\u001b[39;00m \u001b[39mNone\u001b[39;00m \u001b[39mand\u001b[39;00m\n\u001b[1;32m    230\u001b[0m     default \u001b[39mis\u001b[39;00m \u001b[39mNone\u001b[39;00m \u001b[39mand\u001b[39;00m \u001b[39mnot\u001b[39;00m sort_keys \u001b[39mand\u001b[39;00m \u001b[39mnot\u001b[39;00m kw):\n\u001b[0;32m--> 231\u001b[0m     \u001b[39mreturn\u001b[39;00m _default_encoder\u001b[39m.\u001b[39;49mencode(obj)\n\u001b[1;32m    232\u001b[0m \u001b[39mif\u001b[39;00m \u001b[39mcls\u001b[39m \u001b[39mis\u001b[39;00m \u001b[39mNone\u001b[39;00m:\n\u001b[1;32m    233\u001b[0m     \u001b[39mcls\u001b[39m \u001b[39m=\u001b[39m JSONEncoder\n",
      "File \u001b[0;32m/usr/lib/python3.10/json/encoder.py:199\u001b[0m, in \u001b[0;36mJSONEncoder.encode\u001b[0;34m(self, o)\u001b[0m\n\u001b[1;32m    195\u001b[0m         \u001b[39mreturn\u001b[39;00m encode_basestring(o)\n\u001b[1;32m    196\u001b[0m \u001b[39m# This doesn't pass the iterator directly to ''.join() because the\u001b[39;00m\n\u001b[1;32m    197\u001b[0m \u001b[39m# exceptions aren't as detailed.  The list call should be roughly\u001b[39;00m\n\u001b[1;32m    198\u001b[0m \u001b[39m# equivalent to the PySequence_Fast that ''.join() would do.\u001b[39;00m\n\u001b[0;32m--> 199\u001b[0m chunks \u001b[39m=\u001b[39m \u001b[39mself\u001b[39;49m\u001b[39m.\u001b[39;49miterencode(o, _one_shot\u001b[39m=\u001b[39;49m\u001b[39mTrue\u001b[39;49;00m)\n\u001b[1;32m    200\u001b[0m \u001b[39mif\u001b[39;00m \u001b[39mnot\u001b[39;00m \u001b[39misinstance\u001b[39m(chunks, (\u001b[39mlist\u001b[39m, \u001b[39mtuple\u001b[39m)):\n\u001b[1;32m    201\u001b[0m     chunks \u001b[39m=\u001b[39m \u001b[39mlist\u001b[39m(chunks)\n",
      "File \u001b[0;32m/usr/lib/python3.10/json/encoder.py:257\u001b[0m, in \u001b[0;36mJSONEncoder.iterencode\u001b[0;34m(self, o, _one_shot)\u001b[0m\n\u001b[1;32m    252\u001b[0m \u001b[39melse\u001b[39;00m:\n\u001b[1;32m    253\u001b[0m     _iterencode \u001b[39m=\u001b[39m _make_iterencode(\n\u001b[1;32m    254\u001b[0m         markers, \u001b[39mself\u001b[39m\u001b[39m.\u001b[39mdefault, _encoder, \u001b[39mself\u001b[39m\u001b[39m.\u001b[39mindent, floatstr,\n\u001b[1;32m    255\u001b[0m         \u001b[39mself\u001b[39m\u001b[39m.\u001b[39mkey_separator, \u001b[39mself\u001b[39m\u001b[39m.\u001b[39mitem_separator, \u001b[39mself\u001b[39m\u001b[39m.\u001b[39msort_keys,\n\u001b[1;32m    256\u001b[0m         \u001b[39mself\u001b[39m\u001b[39m.\u001b[39mskipkeys, _one_shot)\n\u001b[0;32m--> 257\u001b[0m \u001b[39mreturn\u001b[39;00m _iterencode(o, \u001b[39m0\u001b[39;49m)\n",
      "File \u001b[0;32m/usr/lib/python3.10/json/encoder.py:179\u001b[0m, in \u001b[0;36mJSONEncoder.default\u001b[0;34m(self, o)\u001b[0m\n\u001b[1;32m    160\u001b[0m \u001b[39mdef\u001b[39;00m \u001b[39mdefault\u001b[39m(\u001b[39mself\u001b[39m, o):\n\u001b[1;32m    161\u001b[0m \u001b[39m    \u001b[39m\u001b[39m\"\"\"Implement this method in a subclass such that it returns\u001b[39;00m\n\u001b[1;32m    162\u001b[0m \u001b[39m    a serializable object for ``o``, or calls the base implementation\u001b[39;00m\n\u001b[1;32m    163\u001b[0m \u001b[39m    (to raise a ``TypeError``).\u001b[39;00m\n\u001b[0;32m   (...)\u001b[0m\n\u001b[1;32m    177\u001b[0m \n\u001b[1;32m    178\u001b[0m \u001b[39m    \"\"\"\u001b[39;00m\n\u001b[0;32m--> 179\u001b[0m     \u001b[39mraise\u001b[39;00m \u001b[39mTypeError\u001b[39;00m(\u001b[39mf\u001b[39m\u001b[39m'\u001b[39m\u001b[39mObject of type \u001b[39m\u001b[39m{\u001b[39;00mo\u001b[39m.\u001b[39m\u001b[39m__class__\u001b[39m\u001b[39m.\u001b[39m\u001b[39m__name__\u001b[39m\u001b[39m}\u001b[39;00m\u001b[39m \u001b[39m\u001b[39m'\u001b[39m\n\u001b[1;32m    180\u001b[0m                     \u001b[39mf\u001b[39m\u001b[39m'\u001b[39m\u001b[39mis not JSON serializable\u001b[39m\u001b[39m'\u001b[39m)\n",
      "\u001b[0;31mTypeError\u001b[0m: Object of type int64 is not JSON serializable"
     ]
    }
   ],
   "source": [
    "with open(\"coso.nc\", \"wb\") as fp:\n",
    "    for r in res:\n",
    "        io.ndresult_to_netcdf(fp, r)\n",
    "        del r\n",
    "        break"
   ]
  },
  {
   "cell_type": "code",
   "execution_count": 5,
   "id": "20828fe7",
   "metadata": {},
   "outputs": [
    {
     "data": {
      "text/plain": [
       "<NDResult 'Cuppini2017', modes=['auditory' 'visual' 'multi'], times=10000, positions=180, positions_coordinates=1, causes=True>"
      ]
     },
     "execution_count": 5,
     "metadata": {},
     "output_type": "execute_result"
    }
   ],
   "source": [
    "]"
   ]
  },
  {
   "cell_type": "code",
   "execution_count": 4,
   "id": "68cbd0b3",
   "metadata": {},
   "outputs": [],
   "source": [
    "to_sknmsi_nc(\"zaraza.nc\", res)"
   ]
  },
  {
   "cell_type": "code",
   "execution_count": null,
   "id": "d1b6c967",
   "metadata": {},
   "outputs": [],
   "source": []
  }
 ],
 "metadata": {
  "kernelspec": {
   "display_name": "Python 3 (ipykernel)",
   "language": "python",
   "name": "python3"
  },
  "language_info": {
   "codemirror_mode": {
    "name": "ipython",
    "version": 3
   },
   "file_extension": ".py",
   "mimetype": "text/x-python",
   "name": "python",
   "nbconvert_exporter": "python",
   "pygments_lexer": "ipython3",
   "version": "3.10.12"
  }
 },
 "nbformat": 4,
 "nbformat_minor": 5
}
