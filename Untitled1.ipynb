{
 "cells": [
  {
   "cell_type": "code",
   "execution_count": 1,
   "id": "7d9a2a2c-d2b8-4091-9611-3466fb8f5390",
   "metadata": {},
   "outputs": [
    {
     "data": {
      "application/json": {
       "ascii": false,
       "bar_format": null,
       "colour": null,
       "elapsed": 0.025743961334228516,
       "initial": 0,
       "n": 0,
       "ncols": null,
       "nrows": null,
       "postfix": null,
       "prefix": "Sweeping 'auditory_position'",
       "rate": null,
       "total": 20,
       "unit": "it",
       "unit_divisor": 1000,
       "unit_scale": false
      },
      "application/vnd.jupyter.widget-view+json": {
       "model_id": "b5bc466d352e401eae1eb9f8c87cbeee",
       "version_major": 2,
       "version_minor": 0
      },
      "text/plain": [
       "Sweeping 'auditory_position':   0%|          | 0/20 [00:00<?, ?it/s]"
      ]
     },
     "metadata": {},
     "output_type": "display_data"
    },
    {
     "data": {
      "application/json": {
       "ascii": false,
       "bar_format": null,
       "colour": null,
       "elapsed": 0.019526004791259766,
       "initial": 0,
       "n": 0,
       "ncols": null,
       "nrows": null,
       "postfix": null,
       "prefix": "Collecting metadata",
       "rate": null,
       "total": 20,
       "unit": "it",
       "unit_divisor": 1000,
       "unit_scale": false
      },
      "application/vnd.jupyter.widget-view+json": {
       "model_id": "5a2d6e7f99f2427c86f098f381c40889",
       "version_major": 2,
       "version_minor": 0
      },
      "text/plain": [
       "Collecting metadata:   0%|          | 0/20 [00:00<?, ?it/s]"
      ]
     },
     "metadata": {},
     "output_type": "display_data"
    },
    {
     "ename": "AttributeError",
     "evalue": "'NDResultBiasAcc' object has no attribute 'disparity_matrix'",
     "output_type": "error",
     "traceback": [
      "\u001b[0;31m---------------------------------------------------------------------------\u001b[0m",
      "\u001b[0;31mAttributeError\u001b[0m                            Traceback (most recent call last)",
      "\u001b[1;32m/home/juanbc/proyectos/skneuromsi/src/Untitled1.ipynb Celda 1\u001b[0m in \u001b[0;36m<cell line: 35>\u001b[0;34m()\u001b[0m\n\u001b[1;32m     <a href='vscode-notebook-cell:/home/juanbc/proyectos/skneuromsi/src/Untitled1.ipynb#W0sZmlsZQ%3D%3D?line=23'>24</a>\u001b[0m rep \u001b[39m=\u001b[39m ParameterSweep(\n\u001b[1;32m     <a href='vscode-notebook-cell:/home/juanbc/proyectos/skneuromsi/src/Untitled1.ipynb#W0sZmlsZQ%3D%3D?line=24'>25</a>\u001b[0m     model,\n\u001b[1;32m     <a href='vscode-notebook-cell:/home/juanbc/proyectos/skneuromsi/src/Untitled1.ipynb#W0sZmlsZQ%3D%3D?line=25'>26</a>\u001b[0m     repeat\u001b[39m=\u001b[39m\u001b[39m2\u001b[39m,\n\u001b[0;32m   (...)\u001b[0m\n\u001b[1;32m     <a href='vscode-notebook-cell:/home/juanbc/proyectos/skneuromsi/src/Untitled1.ipynb#W0sZmlsZQ%3D%3D?line=29'>30</a>\u001b[0m     \u001b[39mrange\u001b[39m\u001b[39m=\u001b[39m\u001b[39m50\u001b[39m \u001b[39m+\u001b[39m np\u001b[39m.\u001b[39marange(\u001b[39m2\u001b[39m, \u001b[39m22\u001b[39m, \u001b[39m2\u001b[39m),\n\u001b[1;32m     <a href='vscode-notebook-cell:/home/juanbc/proyectos/skneuromsi/src/Untitled1.ipynb#W0sZmlsZQ%3D%3D?line=30'>31</a>\u001b[0m )\n\u001b[1;32m     <a href='vscode-notebook-cell:/home/juanbc/proyectos/skneuromsi/src/Untitled1.ipynb#W0sZmlsZQ%3D%3D?line=32'>33</a>\u001b[0m res \u001b[39m=\u001b[39m rep\u001b[39m.\u001b[39mrun(noise\u001b[39m=\u001b[39m\u001b[39mTrue\u001b[39;00m, visual_position\u001b[39m=\u001b[39m\u001b[39m50\u001b[39m)\n\u001b[0;32m---> <a href='vscode-notebook-cell:/home/juanbc/proyectos/skneuromsi/src/Untitled1.ipynb#W0sZmlsZQ%3D%3D?line=34'>35</a>\u001b[0m res\u001b[39m.\u001b[39;49mplot\u001b[39m.\u001b[39;49mbias_mean(\u001b[39m\"\u001b[39;49m\u001b[39mvisual_position\u001b[39;49m\u001b[39m\"\u001b[39;49m)\n",
      "File \u001b[0;32m~/proyectos/skneuromsi/src/skneuromsi/cmp/ndcollection/plot_acc.py:121\u001b[0m, in \u001b[0;36mNDResultCollectionPlotter.bias_mean\u001b[0;34m(self, influence_parameter, changing_parameter, dim, mode, show_progress, ax, **kws)\u001b[0m\n\u001b[1;32m    109\u001b[0m \u001b[39mdef\u001b[39;00m \u001b[39mbias_mean\u001b[39m(\n\u001b[1;32m    110\u001b[0m     \u001b[39mself\u001b[39m,\n\u001b[1;32m    111\u001b[0m     influence_parameter,\n\u001b[0;32m   (...)\u001b[0m\n\u001b[1;32m    118\u001b[0m     \u001b[39m*\u001b[39m\u001b[39m*\u001b[39mkws,\n\u001b[1;32m    119\u001b[0m ):\n\u001b[1;32m    120\u001b[0m     bias_acc \u001b[39m=\u001b[39m \u001b[39mself\u001b[39m\u001b[39m.\u001b[39m_nd_collection\u001b[39m.\u001b[39mbias\n\u001b[0;32m--> 121\u001b[0m     the_bias \u001b[39m=\u001b[39m bias_acc\u001b[39m.\u001b[39;49mbias_mean(\n\u001b[1;32m    122\u001b[0m         influence_parameter\u001b[39m=\u001b[39;49minfluence_parameter,\n\u001b[1;32m    123\u001b[0m         changing_parameter\u001b[39m=\u001b[39;49mchanging_parameter,\n\u001b[1;32m    124\u001b[0m         dim\u001b[39m=\u001b[39;49mdim,\n\u001b[1;32m    125\u001b[0m         mode\u001b[39m=\u001b[39;49mmode,\n\u001b[1;32m    126\u001b[0m         show_progress\u001b[39m=\u001b[39;49mshow_progress,\n\u001b[1;32m    127\u001b[0m     )\n\u001b[1;32m    129\u001b[0m     legend \u001b[39m=\u001b[39m kws\u001b[39m.\u001b[39mpop(\u001b[39m\"\u001b[39m\u001b[39mlegend\u001b[39m\u001b[39m\"\u001b[39m, \u001b[39mTrue\u001b[39;00m)\n\u001b[1;32m    131\u001b[0m     changing_parameter, influence_parameter, _ \u001b[39m=\u001b[39m the_bias\u001b[39m.\u001b[39mcolumns[\u001b[39m0\u001b[39m]\n",
      "File \u001b[0;32m~/proyectos/skneuromsi/src/skneuromsi/cmp/ndcollection/bias_acc.py:147\u001b[0m, in \u001b[0;36mNDResultBiasAcc.bias_mean\u001b[0;34m(self, influence_parameter, changing_parameter, dim, mode, show_progress)\u001b[0m\n\u001b[1;32m    138\u001b[0m \u001b[39mdef\u001b[39;00m \u001b[39mbias_mean\u001b[39m(\n\u001b[1;32m    139\u001b[0m     \u001b[39mself\u001b[39m,\n\u001b[1;32m    140\u001b[0m     influence_parameter,\n\u001b[0;32m   (...)\u001b[0m\n\u001b[1;32m    145\u001b[0m     show_progress\u001b[39m=\u001b[39m\u001b[39mTrue\u001b[39;00m,\n\u001b[1;32m    146\u001b[0m ):\n\u001b[0;32m--> 147\u001b[0m     bias \u001b[39m=\u001b[39m \u001b[39mself\u001b[39;49m\u001b[39m.\u001b[39;49mbias(\n\u001b[1;32m    148\u001b[0m         influence_parameter\u001b[39m=\u001b[39;49minfluence_parameter,\n\u001b[1;32m    149\u001b[0m         changing_parameter\u001b[39m=\u001b[39;49mchanging_parameter,\n\u001b[1;32m    150\u001b[0m         dim\u001b[39m=\u001b[39;49mdim,\n\u001b[1;32m    151\u001b[0m         mode\u001b[39m=\u001b[39;49mmode,\n\u001b[1;32m    152\u001b[0m         show_progress\u001b[39m=\u001b[39;49mshow_progress,\n\u001b[1;32m    153\u001b[0m     )\n\u001b[1;32m    154\u001b[0m     mbias_df \u001b[39m=\u001b[39m bias\u001b[39m.\u001b[39mmean(axis\u001b[39m=\u001b[39m\u001b[39m1\u001b[39m)\u001b[39m.\u001b[39mto_frame()\n\u001b[1;32m    156\u001b[0m     cnames \u001b[39m=\u001b[39m bias\u001b[39m.\u001b[39mcolumns\u001b[39m.\u001b[39mnames[:\u001b[39m-\u001b[39m\u001b[39m1\u001b[39m] \u001b[39m+\u001b[39m [\u001b[39m\"\u001b[39m\u001b[39mBias\u001b[39m\u001b[39m\"\u001b[39m]\n",
      "File \u001b[0;32m~/proyectos/skneuromsi/lib/python3.10/site-packages/methodtools.py:72\u001b[0m, in \u001b[0;36m_LruCacheWire.__call__\u001b[0;34m(self, *args, **kwargs)\u001b[0m\n\u001b[1;32m     70\u001b[0m \u001b[39mdef\u001b[39;00m \u001b[39m__call__\u001b[39m(\u001b[39mself\u001b[39m, \u001b[39m*\u001b[39margs, \u001b[39m*\u001b[39m\u001b[39m*\u001b[39mkwargs):\n\u001b[1;32m     71\u001b[0m     \u001b[39m# descriptor detection support - never called\u001b[39;00m\n\u001b[0;32m---> 72\u001b[0m     \u001b[39mreturn\u001b[39;00m \u001b[39mself\u001b[39;49m\u001b[39m.\u001b[39;49m\u001b[39m__call__\u001b[39;49m(\u001b[39m*\u001b[39;49margs, \u001b[39m*\u001b[39;49m\u001b[39m*\u001b[39;49mkwargs)\n",
      "File \u001b[0;32m~/proyectos/skneuromsi/src/skneuromsi/cmp/ndcollection/bias_acc.py:96\u001b[0m, in \u001b[0;36mNDResultBiasAcc.bias\u001b[0;34m(self, influence_parameter, changing_parameter, dim, mode, show_progress)\u001b[0m\n\u001b[1;32m     91\u001b[0m \u001b[39mif\u001b[39;00m \u001b[39mnot\u001b[39;00m unchanged_parameters[influence_parameter]:\n\u001b[1;32m     92\u001b[0m     \u001b[39mraise\u001b[39;00m \u001b[39mValueError\u001b[39;00m(\n\u001b[1;32m     93\u001b[0m         \u001b[39mf\u001b[39m\u001b[39m\"\u001b[39m\u001b[39minfluence_parameter \u001b[39m\u001b[39m{\u001b[39;00minfluence_parameter\u001b[39m!r}\u001b[39;00m\u001b[39m are not fixed\u001b[39m\u001b[39m\"\u001b[39m\n\u001b[1;32m     94\u001b[0m     )\n\u001b[0;32m---> 96\u001b[0m disp_mtx \u001b[39m=\u001b[39m \u001b[39mself\u001b[39;49m\u001b[39m.\u001b[39;49mdisparity_matrix()[\n\u001b[1;32m     97\u001b[0m     [changing_parameter, influence_parameter]\n\u001b[1;32m     98\u001b[0m ]\n\u001b[1;32m    100\u001b[0m influence_value \u001b[39m=\u001b[39m disp_mtx[influence_parameter][\u001b[39m0\u001b[39m]\n\u001b[1;32m    102\u001b[0m ndresults \u001b[39m=\u001b[39m nd_collection\u001b[39m.\u001b[39m_ndresults\n",
      "\u001b[0;31mAttributeError\u001b[0m: 'NDResultBiasAcc' object has no attribute 'disparity_matrix'"
     ]
    }
   ],
   "source": [
    "from skneuromsi.neural import Cuppini2017\n",
    "from skneuromsi.cmp import ParameterSweep, storages\n",
    "from skneuromsi.utils import Bunch\n",
    "import pandas as pd\n",
    "import numpy as np\n",
    "\n",
    "from tqdm.notebook import tqdm\n",
    "\n",
    "import joblib\n",
    "\n",
    "import xarray as xa\n",
    "\n",
    "import sys\n",
    "\n",
    "\n",
    "# sg = storages.DirectoryStorage(10, \".\")\n",
    "# sg[0] = \"hola\"\n",
    "# import ipdb; ipdb.set_trace()\n",
    "\n",
    "tqdm.pandas()\n",
    "\n",
    "model = Cuppini2017()\n",
    "\n",
    "rep = ParameterSweep(\n",
    "    model,\n",
    "    repeat=2,\n",
    "    n_jobs=-1,\n",
    "    target=\"auditory_position\",\n",
    "    seed=41,\n",
    "    range=50 + np.arange(2, 22, 2),\n",
    ")\n",
    "\n",
    "res = rep.run(noise=True, visual_position=50)\n",
    "\n",
    "res.plot.bias_mean(\"visual_position\")"
   ]
  },
  {
   "cell_type": "code",
   "execution_count": null,
   "id": "9ea61578",
   "metadata": {},
   "outputs": [],
   "source": []
  }
 ],
 "metadata": {
  "kernelspec": {
   "display_name": "Python 3 (ipykernel)",
   "language": "python",
   "name": "python3"
  },
  "language_info": {
   "codemirror_mode": {
    "name": "ipython",
    "version": 3
   },
   "file_extension": ".py",
   "mimetype": "text/x-python",
   "name": "python",
   "nbconvert_exporter": "python",
   "pygments_lexer": "ipython3",
   "version": "3.10.12"
  }
 },
 "nbformat": 4,
 "nbformat_minor": 5
}
